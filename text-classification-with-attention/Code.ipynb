{
  "nbformat": 4,
  "nbformat_minor": 0,
  "metadata": {
    "colab": {
      "provenance": [],
      "collapsed_sections": [
        "hymLicJTeCEP",
        "ZL7JAhv3BnUc",
        "qboe-nwyBhmz",
        "olF2OwuGawDG",
        "nIWpLxtyJcWo"
      ],
      "gpuType": "V28"
    },
    "kernelspec": {
      "name": "python3",
      "display_name": "Python 3"
    },
    "language_info": {
      "name": "python"
    },
    "accelerator": "TPU"
  },
  "cells": [
    {
      "cell_type": "markdown",
      "source": [
        "#libraries"
      ],
      "metadata": {
        "id": "hymLicJTeCEP"
      }
    },
    {
      "cell_type": "code",
      "source": [
        "# Data manipulation and preprocessing\n",
        "import numpy as np\n",
        "import pandas as pd\n",
        "import string\n",
        "import nltk\n",
        "from sklearn.model_selection import train_test_split, ParameterGrid\n",
        "from sklearn.preprocessing import LabelEncoder\n",
        "from nltk.corpus import stopwords\n",
        "\n",
        "# TensorFlow and Keras imports for model building\n",
        "import tensorflow as tf\n",
        "from tensorflow.keras.models import Sequential, Model\n",
        "from tensorflow.keras.layers import Embedding, LSTM, Attention, Dense, Dropout, Concatenate, Input, Flatten, Reshape\n",
        "from tensorflow.keras.callbacks import EarlyStopping\n",
        "from tensorflow.keras.preprocessing.text import Tokenizer\n",
        "from tensorflow.keras.preprocessing.sequence import pad_sequences\n",
        "from tensorflow.keras.optimizers import Adam\n",
        "\n",
        "# Data visualization\n",
        "import seaborn as sns\n",
        "import matplotlib.pyplot as plt\n",
        "\n",
        "# File and directory management\n",
        "import os\n",
        "import shutil\n",
        "\n",
        "# Kaggle related functionality\n",
        "import kagglehub\n"
      ],
      "metadata": {
        "id": "V-fMLEQPeBVc"
      },
      "execution_count": null,
      "outputs": []
    },
    {
      "cell_type": "markdown",
      "source": [
        "#downlod_imdb"
      ],
      "metadata": {
        "id": "ZL7JAhv3BnUc"
      }
    },
    {
      "cell_type": "code",
      "execution_count": 6,
      "metadata": {
        "colab": {
          "base_uri": "https://localhost:8080/"
        },
        "id": "85f_-k_C-G2S",
        "outputId": "e1ef370c-29c2-4ad3-fb4c-3a3c242d1431"
      },
      "outputs": [
        {
          "output_type": "stream",
          "name": "stdout",
          "text": [
            "Downloading from https://www.kaggle.com/api/v1/datasets/download/lakshmi25npathi/imdb-dataset-of-50k-movie-reviews?dataset_version_number=1...\n"
          ]
        },
        {
          "output_type": "stream",
          "name": "stderr",
          "text": [
            "100%|██████████| 25.7M/25.7M [00:00<00:00, 61.8MB/s]"
          ]
        },
        {
          "output_type": "stream",
          "name": "stdout",
          "text": [
            "Extracting files...\n"
          ]
        },
        {
          "output_type": "stream",
          "name": "stderr",
          "text": [
            "\n"
          ]
        },
        {
          "output_type": "stream",
          "name": "stdout",
          "text": [
            "Path to dataset files: /root/.cache/kagglehub/datasets/lakshmi25npathi/imdb-dataset-of-50k-movie-reviews/versions/1\n"
          ]
        }
      ],
      "source": [
        "# Download latest version\n",
        "path = kagglehub.dataset_download(\"lakshmi25npathi/imdb-dataset-of-50k-movie-reviews\")\n",
        "\n",
        "print(\"Path to dataset files:\", path)"
      ]
    },
    {
      "cell_type": "code",
      "source": [
        "new_path = \"/content/imdb_dataset\"\n",
        "os.makedirs(new_path, exist_ok=True)\n",
        "shutil.move(path, new_path)"
      ],
      "metadata": {
        "id": "AWjd2jU--7ge"
      },
      "execution_count": null,
      "outputs": []
    },
    {
      "cell_type": "code",
      "source": [
        "file_path = os.path.join(\"/content/imdb_dataset/1/IMDB Dataset.csv\")  # یا نام فایل را جایگزین کنید\n",
        "df = pd.read_csv(file_path)\n",
        "\n",
        "# نمایش چند ردیف ابتدایی\n",
        "print(df.head())"
      ],
      "metadata": {
        "colab": {
          "base_uri": "https://localhost:8080/"
        },
        "id": "aTNNM7Ur_Muz",
        "outputId": "94b8982f-9e65-4059-c449-6c28d28bd81f"
      },
      "execution_count": 8,
      "outputs": [
        {
          "output_type": "stream",
          "name": "stdout",
          "text": [
            "                                              review sentiment\n",
            "0  One of the other reviewers has mentioned that ...  positive\n",
            "1  A wonderful little production. <br /><br />The...  positive\n",
            "2  I thought this was a wonderful way to spend ti...  positive\n",
            "3  Basically there's a family where a little boy ...  negative\n",
            "4  Petter Mattei's \"Love in the Time of Money\" is...  positive\n"
          ]
        }
      ]
    },
    {
      "cell_type": "markdown",
      "source": [
        "#data_analys"
      ],
      "metadata": {
        "id": "ct6ssntkBbtB"
      }
    },
    {
      "cell_type": "code",
      "source": [
        "df = df.drop_duplicates()\n",
        "print(f\"New shape after removing duplicates: {df.shape}\")"
      ],
      "metadata": {
        "colab": {
          "base_uri": "https://localhost:8080/"
        },
        "id": "ESNK7CtRCTC7",
        "outputId": "a9af15da-90a4-41d6-b30f-487e08984246"
      },
      "execution_count": 9,
      "outputs": [
        {
          "output_type": "stream",
          "name": "stdout",
          "text": [
            "New shape after removing duplicates: (49582, 2)\n"
          ]
        }
      ]
    },
    {
      "cell_type": "code",
      "source": [
        "# نمایش اطلاعات کلی دیتاست\n",
        "print(\"Dataset Info:\")\n",
        "print(df.info())\n",
        "\n",
        "# نمایش تعداد نمونه‌ها و ستون‌ها\n",
        "print(f\"Shape of dataset: {df.shape}\")\n",
        "\n",
        "# نمایش نام ستون‌ها\n",
        "print(\"Columns:\", df.columns)"
      ],
      "metadata": {
        "colab": {
          "base_uri": "https://localhost:8080/"
        },
        "id": "5JB1Ot5uA5y4",
        "outputId": "c7a5fcbc-40cd-4d1a-b90f-7bf3267a3fc3"
      },
      "execution_count": 10,
      "outputs": [
        {
          "output_type": "stream",
          "name": "stdout",
          "text": [
            "Dataset Info:\n",
            "<class 'pandas.core.frame.DataFrame'>\n",
            "Index: 49582 entries, 0 to 49999\n",
            "Data columns (total 2 columns):\n",
            " #   Column     Non-Null Count  Dtype \n",
            "---  ------     --------------  ----- \n",
            " 0   review     49582 non-null  object\n",
            " 1   sentiment  49582 non-null  object\n",
            "dtypes: object(2)\n",
            "memory usage: 1.1+ MB\n",
            "None\n",
            "Shape of dataset: (49582, 2)\n",
            "Columns: Index(['review', 'sentiment'], dtype='object')\n"
          ]
        }
      ]
    },
    {
      "cell_type": "code",
      "source": [
        "print(\"Category distribution:\")\n",
        "print(df['sentiment'].value_counts())"
      ],
      "metadata": {
        "colab": {
          "base_uri": "https://localhost:8080/"
        },
        "id": "l1CyvWwFBBjA",
        "outputId": "549c7315-1ce5-4058-f410-258a41f36e16"
      },
      "execution_count": 11,
      "outputs": [
        {
          "output_type": "stream",
          "name": "stdout",
          "text": [
            "Category distribution:\n",
            "sentiment\n",
            "positive    24884\n",
            "negative    24698\n",
            "Name: count, dtype: int64\n"
          ]
        }
      ]
    },
    {
      "cell_type": "code",
      "source": [
        "df['text_length'] = df['review'].apply(len)\n",
        "print(\"Text length statistics:\")\n",
        "print(df['text_length'].describe())"
      ],
      "metadata": {
        "colab": {
          "base_uri": "https://localhost:8080/"
        },
        "id": "Ji2rWJJ-BETS",
        "outputId": "537dd398-a325-4a42-f2d5-6a2e7d8cf4a6"
      },
      "execution_count": 12,
      "outputs": [
        {
          "output_type": "stream",
          "name": "stdout",
          "text": [
            "Text length statistics:\n",
            "count    49582.000000\n",
            "mean      1310.568230\n",
            "std        990.762238\n",
            "min         32.000000\n",
            "25%        699.000000\n",
            "50%        971.000000\n",
            "75%       1592.000000\n",
            "max      13704.000000\n",
            "Name: text_length, dtype: float64\n"
          ]
        }
      ]
    },
    {
      "cell_type": "code",
      "source": [
        "duplicates = df.duplicated().sum()\n",
        "print(f\"Number of duplicate rows: {duplicates}\")"
      ],
      "metadata": {
        "colab": {
          "base_uri": "https://localhost:8080/"
        },
        "id": "jii__Lh2BJyn",
        "outputId": "b77aac51-d97b-4858-e83c-95ce4d065a73"
      },
      "execution_count": 13,
      "outputs": [
        {
          "output_type": "stream",
          "name": "stdout",
          "text": [
            "Number of duplicate rows: 0\n"
          ]
        }
      ]
    },
    {
      "cell_type": "code",
      "source": [
        "missing_values = df.isnull().sum()\n",
        "print(\"Missing values in each column:\")\n",
        "print(missing_values)"
      ],
      "metadata": {
        "colab": {
          "base_uri": "https://localhost:8080/"
        },
        "id": "uTgaWLR1BNVY",
        "outputId": "678e52c6-ee55-45a5-f9d7-12ebce551b8d"
      },
      "execution_count": 14,
      "outputs": [
        {
          "output_type": "stream",
          "name": "stdout",
          "text": [
            "Missing values in each column:\n",
            "review         0\n",
            "sentiment      0\n",
            "text_length    0\n",
            "dtype: int64\n"
          ]
        }
      ]
    },
    {
      "cell_type": "code",
      "source": [
        "\n",
        "sns.countplot(x='sentiment', data=df)\n",
        "plt.title(\"Distribution of Sentiment\")\n",
        "plt.show()"
      ],
      "metadata": {
        "colab": {
          "base_uri": "https://localhost:8080/",
          "height": 472
        },
        "id": "QN5lhWN_BQ7s",
        "outputId": "90469f04-fae0-4235-a029-0d5139f53c0f"
      },
      "execution_count": 15,
      "outputs": [
        {
          "output_type": "display_data",
          "data": {
            "text/plain": [
              "<Figure size 640x480 with 1 Axes>"
            ],
            "image/png": "[encoded data removed]"
          },
          "metadata": {}
        }
      ]
    },
    {
      "cell_type": "markdown",
      "source": [
        "#preprpcess"
      ],
      "metadata": {
        "id": "qboe-nwyBhmz"
      }
    },
    {
      "cell_type": "code",
      "source": [
        "# دانلود منابع NLTK\n",
        "nltk.download('stopwords')\n",
        "\n",
        "# تعریف تابع پیش‌پردازش\n",
        "stop_words = set(stopwords.words('english'))\n",
        "\n",
        "def preprocess_text(text):\n",
        "    text = text.lower()  # تبدیل به حروف کوچک\n",
        "    text = text.translate(str.maketrans('', '', string.punctuation))  # حذف علائم نگارشی\n",
        "    words = text.split()  # تقسیم متن به کلمات\n",
        "    words = [word for word in words if word not in stop_words]  # حذف کلمات بی‌معنی\n",
        "    return ' '.join(words)\n",
        "\n",
        "# پیش‌پردازش داده‌ها\n",
        "df['processed_review'] = df['review'].apply(preprocess_text)\n",
        "\n",
        "# نمایش چند نمونه\n",
        "print(df['processed_review'].head())"
      ],
      "metadata": {
        "colab": {
          "base_uri": "https://localhost:8080/"
        },
        "id": "bHlz_oyfBk-F",
        "outputId": "0066eb66-bbb4-4986-9766-062486db6bdb"
      },
      "execution_count": 18,
      "outputs": [
        {
          "output_type": "stream",
          "name": "stderr",
          "text": [
            "[nltk_data] Downloading package stopwords to /root/nltk_data...\n",
            "[nltk_data]   Package stopwords is already up-to-date!\n"
          ]
        },
        {
          "output_type": "stream",
          "name": "stdout",
          "text": [
            "0    one reviewers mentioned watching 1 oz episode ...\n",
            "1    wonderful little production br br filming tech...\n",
            "2    thought wonderful way spend time hot summer we...\n",
            "3    basically theres family little boy jake thinks...\n",
            "4    petter matteis love time money visually stunni...\n",
            "Name: processed_review, dtype: object\n"
          ]
        }
      ]
    },
    {
      "cell_type": "code",
      "source": [
        "# تقسیم داده‌ها به آموزش و تست (80% آموزش، 20% تست)\n",
        "X_train, X_test, y_train, y_test = train_test_split(df['processed_review'], df['sentiment'], test_size=0.2, random_state=42)\n",
        "\n",
        "# تقسیم داده‌های آموزش به آموزش و اعتبارسنجی (80% آموزش، 20% اعتبارسنجی)\n",
        "X_train, X_val, y_train, y_val = train_test_split(X_train, y_train, test_size=0.2, random_state=42)\n",
        "\n",
        "print(f\"Training data: {len(X_train)} samples\")\n",
        "print(f\"Validation data: {len(X_val)} samples\")\n",
        "print(f\"Test data: {len(X_test)} samples\")"
      ],
      "metadata": {
        "colab": {
          "base_uri": "https://localhost:8080/"
        },
        "id": "B0tvdF7tJMzx",
        "outputId": "3fc50cdf-a9fc-4bf8-f706-54f060a613f5"
      },
      "execution_count": 19,
      "outputs": [
        {
          "output_type": "stream",
          "name": "stdout",
          "text": [
            "Training data: 31732 samples\n",
            "Validation data: 7933 samples\n",
            "Test data: 9917 samples\n"
          ]
        }
      ]
    },
    {
      "cell_type": "code",
      "source": [
        "# استفاده از Tokenizer برای توکن‌سازی داده‌ها\n",
        "tokenizer = Tokenizer(num_words=10000)  # حداکثر 10000 کلمه پرتکرار\n",
        "tokenizer.fit_on_texts(X_train)  # آموزش توکنایزر روی داده‌های آموزشی\n",
        "\n",
        "# تبدیل متن‌ها به توکن‌های عددی\n",
        "X_train_seq = tokenizer.texts_to_sequences(X_train)\n",
        "X_val_seq = tokenizer.texts_to_sequences(X_val)\n",
        "X_test_seq = tokenizer.texts_to_sequences(X_test)\n",
        "\n",
        "# پدینگ توکن‌ها برای یکسان کردن طول آنها\n",
        "max_len = 200  # حداکثر طول هر متن (می‌توانید این مقدار را تغییر دهید)\n",
        "X_train_pad = pad_sequences(X_train_seq, maxlen=max_len)\n",
        "X_val_pad = pad_sequences(X_val_seq, maxlen=max_len)\n",
        "X_test_pad = pad_sequences(X_test_seq, maxlen=max_len)\n",
        "\n",
        "print(f\"Shape of padded training data: {X_train_pad.shape}\")\n",
        "print(f\"Shape of padded validation data: {X_val_pad.shape}\")\n",
        "print(f\"Shape of padded test data: {X_test_pad.shape}\")"
      ],
      "metadata": {
        "colab": {
          "base_uri": "https://localhost:8080/"
        },
        "id": "rgGmfGL7JQH6",
        "outputId": "40e2c3cb-eff1-4c53-f37b-d1417b610628"
      },
      "execution_count": 20,
      "outputs": [
        {
          "output_type": "stream",
          "name": "stdout",
          "text": [
            "Shape of padded training data: (31732, 200)\n",
            "Shape of padded validation data: (7933, 200)\n",
            "Shape of padded test data: (9917, 200)\n"
          ]
        }
      ]
    },
    {
      "cell_type": "code",
      "source": [
        "# تبدیل برچسب‌ها به عددی\n",
        "encoder = LabelEncoder()\n",
        "y_train = encoder.fit_transform(y_train)\n",
        "y_val = encoder.transform(y_val)\n",
        "y_test = encoder.transform(y_test)"
      ],
      "metadata": {
        "id": "o5ZPd_39KAoG"
      },
      "execution_count": 21,
      "outputs": []
    },
    {
      "cell_type": "markdown",
      "source": [
        "#Hyperparamet"
      ],
      "metadata": {
        "id": "olF2OwuGawDG"
      }
    },
    {
      "cell_type": "code",
      "source": [
        "# تابع برای ساخت مدل\n",
        "def create_model(num_layers=1, learning_rate=0.001, dropout_rate=0.5):\n",
        "    inputs = Input(shape=(max_len,))\n",
        "    x = Embedding(input_dim=10000, output_dim=128, input_length=max_len)(inputs)\n",
        "\n",
        "    for _ in range(num_layers):\n",
        "        x_lstm = LSTM(128, return_sequences=True)(x)\n",
        "        attention_output = Attention()([x_lstm, x_lstm])\n",
        "        x = Concatenate()([x_lstm, attention_output])\n",
        "\n",
        "    x = LSTM(128)(x)\n",
        "    x = Dropout(dropout_rate)(x)  # Dropout for regularization\n",
        "    x = Dense(1, activation='sigmoid')(x)\n",
        "\n",
        "    model = tf.keras.Model(inputs, x)\n",
        "    model.compile(optimizer=Adam(learning_rate=learning_rate), loss='binary_crossentropy', metrics=['accuracy'])\n",
        "    return model\n",
        "\n",
        "# پارامترهای مختلف برای تست\n",
        "param_grid = {\n",
        "    'num_layers': [1, 2, 3],  # تعداد لایه‌ها\n",
        "    'learning_rate': [0.0001, 0.001, 0.01],  # نرخ یادگیری\n",
        "    'dropout_rate': [0.3, 0.5, 0.7],  # درصد Dropout\n",
        "}\n",
        "\n",
        "# تعریف EarlyStopping\n",
        "early_stopping = EarlyStopping(monitor='val_loss', patience=3, restore_best_weights=True)\n",
        "\n",
        "# تبدیل داده‌ها به tf.data.Dataset\n",
        "train_dataset = tf.data.Dataset.from_tensor_slices((X_train_pad, y_train))\n",
        "val_dataset = tf.data.Dataset.from_tensor_slices((X_val_pad, y_val))\n",
        "test_dataset = tf.data.Dataset.from_tensor_slices((X_test_pad, y_test))\n",
        "\n",
        "# استفاده از 10 درصد داده‌ها برای آموزش\n",
        "train_dataset = train_dataset.take(int(0.1 * len(X_train)))\n",
        "\n",
        "# جستجوی پارامترهای مختلف\n",
        "best_acc = 0\n",
        "best_params = None\n",
        "\n",
        "# انجام Grid Search\n",
        "for params in ParameterGrid(param_grid):\n",
        "    print(f\"Training with params: {params}\")\n",
        "\n",
        "    # ایجاد مدل با پارامترهای مختلف\n",
        "    model = create_model(num_layers=params['num_layers'], learning_rate=params['learning_rate'], dropout_rate=params['dropout_rate'])\n",
        "\n",
        "    # آموزش مدل\n",
        "    history = model.fit(\n",
        "        train_dataset.batch(64), epochs=5, validation_data=val_dataset.batch(64),\n",
        "        callbacks=[early_stopping], verbose=1\n",
        "    )\n",
        "\n",
        "    # ارزیابی مدل روی داده‌های تست\n",
        "    test_loss, test_acc = model.evaluate(test_dataset.batch(64))\n",
        "    print(f\"Test accuracy for {params}: {test_acc}\")\n",
        "\n",
        "    # انتخاب بهترین مدل بر اساس دقت\n",
        "    if test_acc > best_acc:\n",
        "        best_acc = test_acc\n",
        "        best_params = params\n",
        "\n",
        "# نمایش بهترین پارامترها و دقت\n",
        "print(f\"Best accuracy: {best_acc}\")\n",
        "print(f\"Best parameters: {best_params}\")\n"
      ],
      "metadata": {
        "id": "4sonantUn3HR",
        "outputId": "b7d0ac18-5ba6-4f9f-80aa-4e5ba08c6532",
        "colab": {
          "base_uri": "https://localhost:8080/"
        }
      },
      "execution_count": null,
      "outputs": [
        {
          "metadata": {
            "tags": null
          },
          "name": "stdout",
          "output_type": "stream",
          "text": [
            "Training with params: {'dropout_rate': 0.3, 'learning_rate': 0.0001, 'num_layers': 1}\n",
            "Epoch 1/5\n"
          ]
        },
        {
          "metadata": {
            "tags": null
          },
          "name": "stderr",
          "output_type": "stream",
          "text": [
            "/usr/local/lib/python3.11/dist-packages/keras/src/layers/core/embedding.py:90: UserWarning: Argument `input_length` is deprecated. Just remove it.\n",
            "  warnings.warn(\n"
          ]
        },
        {
          "output_type": "stream",
          "name": "stdout",
          "text": [
            "\u001b[1m50/50\u001b[0m \u001b[32m━━━━━━━━━━━━━━━━━━━━\u001b[0m\u001b[37m\u001b[0m \u001b[1m170s\u001b[0m 3s/step - accuracy: 0.5087 - loss: 0.6924 - val_accuracy: 0.5067 - val_loss: 0.6928\n",
            "Epoch 2/5\n",
            "\u001b[1m50/50\u001b[0m \u001b[32m━━━━━━━━━━━━━━━━━━━━\u001b[0m\u001b[37m\u001b[0m \u001b[1m151s\u001b[0m 2s/step - accuracy: 0.5357 - loss: 0.6894 - val_accuracy: 0.5746 - val_loss: 0.6830\n",
            "Epoch 3/5\n",
            "\u001b[1m50/50\u001b[0m \u001b[32m━━━━━━━━━━━━━━━━━━━━\u001b[0m\u001b[37m\u001b[0m \u001b[1m148s\u001b[0m 2s/step - accuracy: 0.6818 - loss: 0.6223 - val_accuracy: 0.7728 - val_loss: 0.4601\n",
            "Epoch 4/5\n",
            "\u001b[1m50/50\u001b[0m \u001b[32m━━━━━━━━━━━━━━━━━━━━\u001b[0m\u001b[37m\u001b[0m \u001b[1m135s\u001b[0m 2s/step - accuracy: 0.8660 - loss: 0.3391 - val_accuracy: 0.8197 - val_loss: 0.4141\n",
            "Epoch 5/5\n",
            "\u001b[1m50/50\u001b[0m \u001b[32m━━━━━━━━━━━━━━━━━━━━\u001b[0m\u001b[37m\u001b[0m \u001b[1m144s\u001b[0m 2s/step - accuracy: 0.9263 - loss: 0.1899 - val_accuracy: 0.8257 - val_loss: 0.4213\n",
            "\u001b[1m155/155\u001b[0m \u001b[32m━━━━━━━━━━━━━━━━━━━━\u001b[0m\u001b[37m\u001b[0m \u001b[1m62s\u001b[0m 398ms/step - accuracy: 0.8153 - loss: 0.4105\n",
            "Test accuracy for {'dropout_rate': 0.3, 'learning_rate': 0.0001, 'num_layers': 1}: 0.8131491541862488\n",
            "Training with params: {'dropout_rate': 0.3, 'learning_rate': 0.0001, 'num_layers': 2}\n",
            "Epoch 1/5\n",
            "\u001b[1m50/50\u001b[0m \u001b[32m━━━━━━━━━━━━━━━━━━━━\u001b[0m\u001b[37m\u001b[0m \u001b[1m194s\u001b[0m 4s/step - accuracy: 0.5200 - loss: 0.6926 - val_accuracy: 0.5175 - val_loss: 0.6927\n",
            "Epoch 2/5\n",
            "\u001b[1m50/50\u001b[0m \u001b[32m━━━━━━━━━━━━━━━━━━━━\u001b[0m\u001b[37m\u001b[0m \u001b[1m199s\u001b[0m 4s/step - accuracy: 0.5556 - loss: 0.6870 - val_accuracy: 0.7528 - val_loss: 0.5622\n",
            "Epoch 3/5\n",
            "\u001b[1m50/50\u001b[0m \u001b[32m━━━━━━━━━━━━━━━━━━━━\u001b[0m\u001b[37m\u001b[0m \u001b[1m186s\u001b[0m 4s/step - accuracy: 0.7945 - loss: 0.4671 - val_accuracy: 0.8041 - val_loss: 0.4382\n",
            "\u001b[1m155/155\u001b[0m \u001b[32m━━━━━━━━━━━━━━━━━━━━\u001b[0m\u001b[37m\u001b[0m \u001b[1m100s\u001b[0m 643ms/step - accuracy: 0.5168 - loss: 0.6929\n",
            "Test accuracy for {'dropout_rate': 0.3, 'learning_rate': 0.0001, 'num_layers': 2}: 0.5161843299865723\n",
            "Training with params: {'dropout_rate': 0.3, 'learning_rate': 0.0001, 'num_layers': 3}\n",
            "Epoch 1/5\n",
            "\u001b[1m50/50\u001b[0m \u001b[32m━━━━━━━━━━━━━━━━━━━━\u001b[0m\u001b[37m\u001b[0m \u001b[1m297s\u001b[0m 6s/step - accuracy: 0.5106 - loss: 0.6929 - val_accuracy: 0.5038 - val_loss: 0.6929\n",
            "Epoch 2/5\n",
            "\u001b[1m50/50\u001b[0m \u001b[32m━━━━━━━━━━━━━━━━━━━━\u001b[0m\u001b[37m\u001b[0m \u001b[1m290s\u001b[0m 5s/step - accuracy: 0.5523 - loss: 0.6880 - val_accuracy: 0.7410 - val_loss: 0.5587\n",
            "Epoch 3/5\n",
            "\u001b[1m50/50\u001b[0m \u001b[32m━━━━━━━━━━━━━━━━━━━━\u001b[0m\u001b[37m\u001b[0m \u001b[1m254s\u001b[0m 5s/step - accuracy: 0.8064 - loss: 0.4392 - val_accuracy: 0.7792 - val_loss: 0.4697\n",
            "\u001b[1m155/155\u001b[0m \u001b[32m━━━━━━━━━━━━━━━━━━━━\u001b[0m\u001b[37m\u001b[0m \u001b[1m139s\u001b[0m 900ms/step - accuracy: 0.5024 - loss: 0.6930\n",
            "Test accuracy for {'dropout_rate': 0.3, 'learning_rate': 0.0001, 'num_layers': 3}: 0.5044872164726257\n",
            "Training with params: {'dropout_rate': 0.3, 'learning_rate': 0.001, 'num_layers': 1}\n",
            "Epoch 1/5\n",
            "\u001b[1m50/50\u001b[0m \u001b[32m━━━━━━━━━━━━━━━━━━━━\u001b[0m\u001b[37m\u001b[0m \u001b[1m125s\u001b[0m 2s/step - accuracy: 0.5829 - loss: 0.6637 - val_accuracy: 0.7556 - val_loss: 0.5118\n",
            "Epoch 2/5\n",
            "\u001b[1m50/50\u001b[0m \u001b[32m━━━━━━━━━━━━━━━━━━━━\u001b[0m\u001b[37m\u001b[0m \u001b[1m139s\u001b[0m 2s/step - accuracy: 0.8918 - loss: 0.2994 - val_accuracy: 0.8100 - val_loss: 0.4442\n",
            "Epoch 3/5\n",
            "\u001b[1m50/50\u001b[0m \u001b[32m━━━━━━━━━━━━━━━━━━━━\u001b[0m\u001b[37m\u001b[0m \u001b[1m175s\u001b[0m 3s/step - accuracy: 0.9667 - loss: 0.1080 - val_accuracy: 0.8057 - val_loss: 0.6593\n",
            "\u001b[1m155/155\u001b[0m \u001b[32m━━━━━━━━━━━━━━━━━━━━\u001b[0m\u001b[37m\u001b[0m \u001b[1m66s\u001b[0m 428ms/step - accuracy: 0.7570 - loss: 0.5142\n",
            "Test accuracy for {'dropout_rate': 0.3, 'learning_rate': 0.001, 'num_layers': 1}: 0.7581930160522461\n",
            "Training with params: {'dropout_rate': 0.3, 'learning_rate': 0.001, 'num_layers': 2}\n",
            "Epoch 1/5\n",
            "\u001b[1m50/50\u001b[0m \u001b[32m━━━━━━━━━━━━━━━━━━━━\u001b[0m\u001b[37m\u001b[0m \u001b[1m196s\u001b[0m 4s/step - accuracy: 0.5518 - loss: 0.6756 - val_accuracy: 0.4968 - val_loss: 0.7040\n",
            "Epoch 2/5\n",
            "\u001b[1m50/50\u001b[0m \u001b[32m━━━━━━━━━━━━━━━━━━━━\u001b[0m\u001b[37m\u001b[0m \u001b[1m188s\u001b[0m 4s/step - accuracy: 0.5224 - loss: 0.6905 - val_accuracy: 0.4950 - val_loss: 0.6863\n",
            "Epoch 3/5\n",
            "\u001b[1m50/50\u001b[0m \u001b[32m━━━━━━━━━━━━━━━━━━━━\u001b[0m\u001b[37m\u001b[0m \u001b[1m186s\u001b[0m 4s/step - accuracy: 0.5147 - loss: 0.6915 - val_accuracy: 0.4958 - val_loss: 0.6892\n",
            "\u001b[1m155/155\u001b[0m \u001b[32m━━━━━━━━━━━━━━━━━━━━\u001b[0m\u001b[37m\u001b[0m \u001b[1m102s\u001b[0m 660ms/step - accuracy: 0.5048 - loss: 0.7014\n",
            "Test accuracy for {'dropout_rate': 0.3, 'learning_rate': 0.001, 'num_layers': 2}: 0.5029746890068054\n",
            "Training with params: {'dropout_rate': 0.3, 'learning_rate': 0.001, 'num_layers': 3}\n",
            "Epoch 1/5\n",
            "\u001b[1m50/50\u001b[0m \u001b[32m━━━━━━━━━━━━━━━━━━━━\u001b[0m\u001b[37m\u001b[0m \u001b[1m299s\u001b[0m 6s/step - accuracy: 0.5455 - loss: 0.6835 - val_accuracy: 0.7880 - val_loss: 0.4772\n",
            "Epoch 2/5\n",
            "\u001b[1m50/50\u001b[0m \u001b[32m━━━━━━━━━━━━━━━━━━━━\u001b[0m\u001b[37m\u001b[0m \u001b[1m286s\u001b[0m 5s/step - accuracy: 0.8671 - loss: 0.3386 - val_accuracy: 0.7988 - val_loss: 0.5029\n",
            "Epoch 3/5\n",
            "\u001b[1m50/50\u001b[0m \u001b[32m━━━━━━━━━━━━━━━━━━━━\u001b[0m\u001b[37m\u001b[0m \u001b[1m258s\u001b[0m 5s/step - accuracy: 0.9728 - loss: 0.0930 - val_accuracy: 0.7699 - val_loss: 0.5199\n",
            "\u001b[1m155/155\u001b[0m \u001b[32m━━━━━━━━━━━━━━━━━━━━\u001b[0m\u001b[37m\u001b[0m \u001b[1m136s\u001b[0m 879ms/step - accuracy: 0.7805 - loss: 0.4807\n",
            "Test accuracy for {'dropout_rate': 0.3, 'learning_rate': 0.001, 'num_layers': 3}: 0.778461217880249\n",
            "Training with params: {'dropout_rate': 0.3, 'learning_rate': 0.01, 'num_layers': 1}\n",
            "Epoch 1/5\n",
            "\u001b[1m50/50\u001b[0m \u001b[32m━━━━━━━━━━━━━━━━━━━━\u001b[0m\u001b[37m\u001b[0m \u001b[1m122s\u001b[0m 2s/step - accuracy: 0.5976 - loss: 0.6992 - val_accuracy: 0.6931 - val_loss: 0.6225\n",
            "Epoch 2/5\n",
            "\u001b[1m50/50\u001b[0m \u001b[32m━━━━━━━━━━━━━━━━━━━━\u001b[0m\u001b[37m\u001b[0m \u001b[1m118s\u001b[0m 2s/step - accuracy: 0.8030 - loss: 0.4762 - val_accuracy: 0.6752 - val_loss: 0.6244\n",
            "Epoch 3/5\n",
            "\u001b[1m50/50\u001b[0m \u001b[32m━━━━━━━━━━━━━━━━━━━━\u001b[0m\u001b[37m\u001b[0m \u001b[1m115s\u001b[0m 2s/step - accuracy: 0.8498 - loss: 0.4020 - val_accuracy: 0.7688 - val_loss: 0.5007\n",
            "\u001b[1m155/155\u001b[0m \u001b[32m━━━━━━━━━━━━━━━━━━━━\u001b[0m\u001b[37m\u001b[0m \u001b[1m63s\u001b[0m 410ms/step - accuracy: 0.6890 - loss: 0.6230\n",
            "Test accuracy for {'dropout_rate': 0.3, 'learning_rate': 0.01, 'num_layers': 1}: 0.6874054670333862\n",
            "Training with params: {'dropout_rate': 0.3, 'learning_rate': 0.01, 'num_layers': 2}\n",
            "Epoch 1/5\n",
            "\u001b[1m50/50\u001b[0m \u001b[32m━━━━━━━━━━━━━━━━━━━━\u001b[0m\u001b[37m\u001b[0m \u001b[1m193s\u001b[0m 4s/step - accuracy: 0.5028 - loss: 0.7798 - val_accuracy: 0.4959 - val_loss: 0.6957\n",
            "Epoch 2/5\n",
            "\u001b[1m50/50\u001b[0m \u001b[32m━━━━━━━━━━━━━━━━━━━━\u001b[0m\u001b[37m\u001b[0m \u001b[1m186s\u001b[0m 4s/step - accuracy: 0.5137 - loss: 0.6919 - val_accuracy: 0.4959 - val_loss: 0.6941\n",
            "Epoch 3/5\n",
            "\u001b[1m50/50\u001b[0m \u001b[32m━━━━━━━━━━━━━━━━━━━━\u001b[0m\u001b[37m\u001b[0m \u001b[1m182s\u001b[0m 4s/step - accuracy: 0.4946 - loss: 0.6975 - val_accuracy: 0.4959 - val_loss: 0.6942\n",
            "\u001b[1m155/155\u001b[0m \u001b[32m━━━━━━━━━━━━━━━━━━━━\u001b[0m\u001b[37m\u001b[0m \u001b[1m100s\u001b[0m 642ms/step - accuracy: 0.5023 - loss: 0.6949\n",
            "Test accuracy for {'dropout_rate': 0.3, 'learning_rate': 0.01, 'num_layers': 2}: 0.5019662976264954\n",
            "Training with params: {'dropout_rate': 0.3, 'learning_rate': 0.01, 'num_layers': 3}\n",
            "Epoch 1/5\n",
            "\u001b[1m50/50\u001b[0m \u001b[32m━━━━━━━━━━━━━━━━━━━━\u001b[0m\u001b[37m\u001b[0m \u001b[1m258s\u001b[0m 5s/step - accuracy: 0.4625 - loss: 0.8412 - val_accuracy: 0.4959 - val_loss: 0.6938\n",
            "Epoch 2/5\n",
            "\u001b[1m50/50\u001b[0m \u001b[32m━━━━━━━━━━━━━━━━━━━━\u001b[0m\u001b[37m\u001b[0m \u001b[1m283s\u001b[0m 6s/step - accuracy: 0.5175 - loss: 0.6938 - val_accuracy: 0.4959 - val_loss: 0.6948\n",
            "Epoch 3/5\n",
            "\u001b[1m50/50\u001b[0m \u001b[32m━━━━━━━━━━━━━━━━━━━━\u001b[0m\u001b[37m\u001b[0m \u001b[1m282s\u001b[0m 5s/step - accuracy: 0.5120 - loss: 0.6940 - val_accuracy: 0.4959 - val_loss: 0.6942\n",
            "\u001b[1m155/155\u001b[0m \u001b[32m━━━━━━━━━━━━━━━━━━━━\u001b[0m\u001b[37m\u001b[0m \u001b[1m136s\u001b[0m 876ms/step - accuracy: 0.5023 - loss: 0.6935\n",
            "Test accuracy for {'dropout_rate': 0.3, 'learning_rate': 0.01, 'num_layers': 3}: 0.5019662976264954\n",
            "Training with params: {'dropout_rate': 0.5, 'learning_rate': 0.0001, 'num_layers': 1}\n",
            "Epoch 1/5\n",
            "\u001b[1m50/50\u001b[0m \u001b[32m━━━━━━━━━━━━━━━━━━━━\u001b[0m\u001b[37m\u001b[0m \u001b[1m121s\u001b[0m 2s/step - accuracy: 0.5045 - loss: 0.6926 - val_accuracy: 0.5177 - val_loss: 0.6925\n",
            "Epoch 2/5\n",
            "\u001b[1m50/50\u001b[0m \u001b[32m━━━━━━━━━━━━━━━━━━━━\u001b[0m\u001b[37m\u001b[0m \u001b[1m116s\u001b[0m 2s/step - accuracy: 0.5417 - loss: 0.6894 - val_accuracy: 0.5567 - val_loss: 0.6839\n",
            "Epoch 3/5\n",
            "\u001b[1m50/50\u001b[0m \u001b[32m━━━━━━━━━━━━━━━━━━━━\u001b[0m\u001b[37m\u001b[0m \u001b[1m139s\u001b[0m 2s/step - accuracy: 0.6660 - loss: 0.6256 - val_accuracy: 0.7918 - val_loss: 0.4470\n",
            "\u001b[1m155/155\u001b[0m \u001b[32m━━━━━━━━━━━━━━━━━━━━\u001b[0m\u001b[37m\u001b[0m \u001b[1m64s\u001b[0m 410ms/step - accuracy: 0.5120 - loss: 0.6926\n",
            "Test accuracy for {'dropout_rate': 0.5, 'learning_rate': 0.0001, 'num_layers': 1}: 0.5141676068305969\n",
            "Training with params: {'dropout_rate': 0.5, 'learning_rate': 0.0001, 'num_layers': 2}\n",
            "Epoch 1/5\n",
            "\u001b[1m50/50\u001b[0m \u001b[32m━━━━━━━━━━━━━━━━━━━━\u001b[0m\u001b[37m\u001b[0m \u001b[1m193s\u001b[0m 4s/step - accuracy: 0.5180 - loss: 0.6921 - val_accuracy: 0.5154 - val_loss: 0.6930\n",
            "Epoch 2/5\n",
            "\u001b[1m50/50\u001b[0m \u001b[32m━━━━━━━━━━━━━━━━━━━━\u001b[0m\u001b[37m\u001b[0m \u001b[1m201s\u001b[0m 4s/step - accuracy: 0.5428 - loss: 0.6893 - val_accuracy: 0.5463 - val_loss: 0.6838\n",
            "Epoch 3/5\n",
            "\u001b[1m50/50\u001b[0m \u001b[32m━━━━━━━━━━━━━━━━━━━━\u001b[0m\u001b[37m\u001b[0m \u001b[1m187s\u001b[0m 4s/step - accuracy: 0.6648 - loss: 0.6247 - val_accuracy: 0.7752 - val_loss: 0.4808\n",
            "\u001b[1m155/155\u001b[0m \u001b[32m━━━━━━━━━━━━━━━━━━━━\u001b[0m\u001b[37m\u001b[0m \u001b[1m103s\u001b[0m 668ms/step - accuracy: 0.5121 - loss: 0.6933\n",
            "Test accuracy for {'dropout_rate': 0.5, 'learning_rate': 0.0001, 'num_layers': 2}: 0.5127558708190918\n",
            "Training with params: {'dropout_rate': 0.5, 'learning_rate': 0.0001, 'num_layers': 3}\n",
            "Epoch 1/5\n",
            "\u001b[1m50/50\u001b[0m \u001b[32m━━━━━━━━━━━━━━━━━━━━\u001b[0m\u001b[37m\u001b[0m \u001b[1m259s\u001b[0m 5s/step - accuracy: 0.5049 - loss: 0.6928 - val_accuracy: 0.5030 - val_loss: 0.6926\n",
            "Epoch 2/5\n",
            "\u001b[1m50/50\u001b[0m \u001b[32m━━━━━━━━━━━━━━━━━━━━\u001b[0m\u001b[37m\u001b[0m \u001b[1m250s\u001b[0m 5s/step - accuracy: 0.5600 - loss: 0.6861 - val_accuracy: 0.6878 - val_loss: 0.5713\n",
            "Epoch 3/5\n",
            "\u001b[1m50/50\u001b[0m \u001b[32m━━━━━━━━━━━━━━━━━━━━\u001b[0m\u001b[37m\u001b[0m \u001b[1m261s\u001b[0m 5s/step - accuracy: 0.7793 - loss: 0.4570 - val_accuracy: 0.8045 - val_loss: 0.4636\n",
            "\u001b[1m155/155\u001b[0m \u001b[32m━━━━━━━━━━━━━━━━━━━━\u001b[0m\u001b[37m\u001b[0m \u001b[1m136s\u001b[0m 879ms/step - accuracy: 0.4970 - loss: 0.6929\n",
            "Test accuracy for {'dropout_rate': 0.5, 'learning_rate': 0.0001, 'num_layers': 3}: 0.500554621219635\n",
            "Training with params: {'dropout_rate': 0.5, 'learning_rate': 0.001, 'num_layers': 1}\n",
            "Epoch 1/5\n",
            "\u001b[1m50/50\u001b[0m \u001b[32m━━━━━━━━━━━━━━━━━━━━\u001b[0m\u001b[37m\u001b[0m \u001b[1m152s\u001b[0m 3s/step - accuracy: 0.5641 - loss: 0.6594 - val_accuracy: 0.8027 - val_loss: 0.4341\n",
            "Epoch 2/5\n",
            "\u001b[1m50/50\u001b[0m \u001b[32m━━━━━━━━━━━━━━━━━━━━\u001b[0m\u001b[37m\u001b[0m \u001b[1m172s\u001b[0m 2s/step - accuracy: 0.8937 - loss: 0.2831 - val_accuracy: 0.8108 - val_loss: 0.5390\n",
            "Epoch 3/5\n",
            "\u001b[1m50/50\u001b[0m \u001b[32m━━━━━━━━━━━━━━━━━━━━\u001b[0m\u001b[37m\u001b[0m \u001b[1m139s\u001b[0m 2s/step - accuracy: 0.9652 - loss: 0.0929 - val_accuracy: 0.8181 - val_loss: 0.5647\n",
            "\u001b[1m155/155\u001b[0m \u001b[32m━━━━━━━━━━━━━━━━━━━━\u001b[0m\u001b[37m\u001b[0m \u001b[1m64s\u001b[0m 412ms/step - accuracy: 0.7935 - loss: 0.4377\n",
            "Test accuracy for {'dropout_rate': 0.5, 'learning_rate': 0.001, 'num_layers': 1}: 0.7936875820159912\n",
            "Training with params: {'dropout_rate': 0.5, 'learning_rate': 0.001, 'num_layers': 2}\n",
            "Epoch 1/5\n",
            "\u001b[1m50/50\u001b[0m \u001b[32m━━━━━━━━━━━━━━━━━━━━\u001b[0m\u001b[37m\u001b[0m \u001b[1m191s\u001b[0m 4s/step - accuracy: 0.5393 - loss: 0.6774 - val_accuracy: 0.6927 - val_loss: 0.6473\n",
            "Epoch 2/5\n",
            "\u001b[1m50/50\u001b[0m \u001b[32m━━━━━━━━━━━━━━━━━━━━\u001b[0m\u001b[37m\u001b[0m \u001b[1m204s\u001b[0m 4s/step - accuracy: 0.8271 - loss: 0.4279 - val_accuracy: 0.7928 - val_loss: 0.5393\n",
            "Epoch 3/5\n",
            "\u001b[1m50/50\u001b[0m \u001b[32m━━━━━━━━━━━━━━━━━━━━\u001b[0m\u001b[37m\u001b[0m \u001b[1m185s\u001b[0m 4s/step - accuracy: 0.9331 - loss: 0.1988 - val_accuracy: 0.7999 - val_loss: 0.6772\n",
            "\u001b[1m155/155\u001b[0m \u001b[32m━━━━━━━━━━━━━━━━━━━━\u001b[0m\u001b[37m\u001b[0m \u001b[1m103s\u001b[0m 664ms/step - accuracy: 0.6921 - loss: 0.6486\n",
            "Test accuracy for {'dropout_rate': 0.5, 'learning_rate': 0.001, 'num_layers': 2}: 0.6942623853683472\n",
            "Training with params: {'dropout_rate': 0.5, 'learning_rate': 0.001, 'num_layers': 3}\n",
            "Epoch 1/5\n",
            "\u001b[1m50/50\u001b[0m \u001b[32m━━━━━━━━━━━━━━━━━━━━\u001b[0m\u001b[37m\u001b[0m \u001b[1m266s\u001b[0m 5s/step - accuracy: 0.5468 - loss: 0.6791 - val_accuracy: 0.7761 - val_loss: 0.4865\n",
            "Epoch 2/5\n",
            "\u001b[1m50/50\u001b[0m \u001b[32m━━━━━━━━━━━━━━━━━━━━\u001b[0m\u001b[37m\u001b[0m \u001b[1m254s\u001b[0m 5s/step - accuracy: 0.8420 - loss: 0.3770 - val_accuracy: 0.7867 - val_loss: 0.5706\n",
            "Epoch 3/5\n",
            "\u001b[1m50/50\u001b[0m \u001b[32m━━━━━━━━━━━━━━━━━━━━\u001b[0m\u001b[37m\u001b[0m \u001b[1m265s\u001b[0m 5s/step - accuracy: 0.9390 - loss: 0.1819 - val_accuracy: 0.7959 - val_loss: 0.6806\n",
            "\u001b[1m155/155\u001b[0m \u001b[32m━━━━━━━━━━━━━━━━━━━━\u001b[0m\u001b[37m\u001b[0m \u001b[1m139s\u001b[0m 894ms/step - accuracy: 0.7719 - loss: 0.4924\n",
            "Test accuracy for {'dropout_rate': 0.5, 'learning_rate': 0.001, 'num_layers': 3}: 0.7701926231384277\n",
            "Training with params: {'dropout_rate': 0.5, 'learning_rate': 0.01, 'num_layers': 1}\n",
            "Epoch 1/5\n",
            "\u001b[1m50/50\u001b[0m \u001b[32m━━━━━━━━━━━━━━━━━━━━\u001b[0m\u001b[37m\u001b[0m \u001b[1m121s\u001b[0m 2s/step - accuracy: 0.5825 - loss: 0.7007 - val_accuracy: 0.7900 - val_loss: 0.4762\n",
            "Epoch 2/5\n",
            "\u001b[1m50/50\u001b[0m \u001b[32m━━━━━━━━━━━━━━━━━━━━\u001b[0m\u001b[37m\u001b[0m \u001b[1m174s\u001b[0m 3s/step - accuracy: 0.8415 - loss: 0.4005 - val_accuracy: 0.7749 - val_loss: 0.5809\n",
            "Epoch 3/5\n",
            "\u001b[1m50/50\u001b[0m \u001b[32m━━━━━━━━━━━━━━━━━━━━\u001b[0m\u001b[37m\u001b[0m \u001b[1m149s\u001b[0m 3s/step - accuracy: 0.8895 - loss: 0.2833 - val_accuracy: 0.7862 - val_loss: 0.5713\n",
            "\u001b[1m155/155\u001b[0m \u001b[32m━━━━━━━━━━━━━━━━━━━━\u001b[0m\u001b[37m\u001b[0m \u001b[1m65s\u001b[0m 420ms/step - accuracy: 0.7841 - loss: 0.4809\n",
            "Test accuracy for {'dropout_rate': 0.5, 'learning_rate': 0.01, 'num_layers': 1}: 0.7819905281066895\n",
            "Training with params: {'dropout_rate': 0.5, 'learning_rate': 0.01, 'num_layers': 2}\n",
            "Epoch 1/5\n",
            "\u001b[1m50/50\u001b[0m \u001b[32m━━━━━━━━━━━━━━━━━━━━\u001b[0m\u001b[37m\u001b[0m \u001b[1m196s\u001b[0m 4s/step - accuracy: 0.5222 - loss: 0.7788 - val_accuracy: 0.4915 - val_loss: 0.7008\n",
            "Epoch 2/5\n",
            "\u001b[1m50/50\u001b[0m \u001b[32m━━━━━━━━━━━━━━━━━━━━\u001b[0m\u001b[37m\u001b[0m \u001b[1m184s\u001b[0m 4s/step - accuracy: 0.5281 - loss: 0.6987 - val_accuracy: 0.4959 - val_loss: 0.6964\n",
            "Epoch 3/5\n",
            "\u001b[1m50/50\u001b[0m \u001b[32m━━━━━━━━━━━━━━━━━━━━\u001b[0m\u001b[37m\u001b[0m \u001b[1m203s\u001b[0m 4s/step - accuracy: 0.5004 - loss: 0.6968 - val_accuracy: 0.4959 - val_loss: 0.6951\n",
            "\u001b[1m155/155\u001b[0m \u001b[32m━━━━━━━━━━━━━━━━━━━━\u001b[0m\u001b[37m\u001b[0m \u001b[1m100s\u001b[0m 644ms/step - accuracy: 0.4954 - loss: 0.6997\n",
            "Test accuracy for {'dropout_rate': 0.5, 'learning_rate': 0.01, 'num_layers': 2}: 0.49349603056907654\n",
            "Training with params: {'dropout_rate': 0.5, 'learning_rate': 0.01, 'num_layers': 3}\n",
            "Epoch 1/5\n",
            "\u001b[1m50/50\u001b[0m \u001b[32m━━━━━━━━━━━━━━━━━━━━\u001b[0m\u001b[37m\u001b[0m \u001b[1m257s\u001b[0m 5s/step - accuracy: 0.5002 - loss: 0.7713 - val_accuracy: 0.4959 - val_loss: 0.6949\n",
            "Epoch 2/5\n",
            "\u001b[1m50/50\u001b[0m \u001b[32m━━━━━━━━━━━━━━━━━━━━\u001b[0m\u001b[37m\u001b[0m \u001b[1m297s\u001b[0m 6s/step - accuracy: 0.5065 - loss: 0.6960 - val_accuracy: 0.4959 - val_loss: 0.6948\n",
            "Epoch 3/5\n",
            "\u001b[1m50/50\u001b[0m \u001b[32m━━━━━━━━━━━━━━━━━━━━\u001b[0m\u001b[37m\u001b[0m \u001b[1m249s\u001b[0m 5s/step - accuracy: 0.5083 - loss: 0.6948 - val_accuracy: 0.4959 - val_loss: 0.6949\n",
            "\u001b[1m155/155\u001b[0m \u001b[32m━━━━━━━━━━━━━━━━━━━━\u001b[0m\u001b[37m\u001b[0m \u001b[1m138s\u001b[0m 892ms/step - accuracy: 0.5023 - loss: 0.6943\n",
            "Test accuracy for {'dropout_rate': 0.5, 'learning_rate': 0.01, 'num_layers': 3}: 0.5019662976264954\n",
            "Training with params: {'dropout_rate': 0.7, 'learning_rate': 0.0001, 'num_layers': 1}\n",
            "Epoch 1/5\n",
            "\u001b[1m50/50\u001b[0m \u001b[32m━━━━━━━━━━━━━━━━━━━━\u001b[0m\u001b[37m\u001b[0m \u001b[1m122s\u001b[0m 2s/step - accuracy: 0.5055 - loss: 0.6927 - val_accuracy: 0.5094 - val_loss: 0.6924\n",
            "Epoch 2/5\n",
            "\u001b[1m50/50\u001b[0m \u001b[32m━━━━━━━━━━━━━━━━━━━━\u001b[0m\u001b[37m\u001b[0m \u001b[1m147s\u001b[0m 3s/step - accuracy: 0.5434 - loss: 0.6897 - val_accuracy: 0.5393 - val_loss: 0.6876\n",
            "Epoch 3/5\n",
            "\u001b[1m50/50\u001b[0m \u001b[32m━━━━━━━━━━━━━━━━━━━━\u001b[0m\u001b[37m\u001b[0m \u001b[1m169s\u001b[0m 2s/step - accuracy: 0.6370 - loss: 0.6540 - val_accuracy: 0.7900 - val_loss: 0.4502\n",
            "\u001b[1m155/155\u001b[0m \u001b[32m━━━━━━━━━━━━━━━━━━━━\u001b[0m\u001b[37m\u001b[0m \u001b[1m64s\u001b[0m 414ms/step - accuracy: 0.5100 - loss: 0.6926\n",
            "Test accuracy for {'dropout_rate': 0.7, 'learning_rate': 0.0001, 'num_layers': 1}: 0.5105374455451965\n",
            "Training with params: {'dropout_rate': 0.7, 'learning_rate': 0.0001, 'num_layers': 2}\n",
            "Epoch 1/5\n",
            "\u001b[1m50/50\u001b[0m \u001b[32m━━━━━━━━━━━━━━━━━━━━\u001b[0m\u001b[37m\u001b[0m \u001b[1m193s\u001b[0m 4s/step - accuracy: 0.5076 - loss: 0.6928 - val_accuracy: 0.5086 - val_loss: 0.6929\n",
            "Epoch 2/5\n",
            "\u001b[1m50/50\u001b[0m \u001b[32m━━━━━━━━━━━━━━━━━━━━\u001b[0m\u001b[37m\u001b[0m \u001b[1m199s\u001b[0m 4s/step - accuracy: 0.5355 - loss: 0.6913 - val_accuracy: 0.5510 - val_loss: 0.6857\n",
            "Epoch 3/5\n",
            "\u001b[1m50/50\u001b[0m \u001b[32m━━━━━━━━━━━━━━━━━━━━\u001b[0m\u001b[37m\u001b[0m \u001b[1m184s\u001b[0m 4s/step - accuracy: 0.6620 - loss: 0.6250 - val_accuracy: 0.7962 - val_loss: 0.4421\n",
            "\u001b[1m155/155\u001b[0m \u001b[32m━━━━━━━━━━━━━━━━━━━━\u001b[0m\u001b[37m\u001b[0m \u001b[1m100s\u001b[0m 643ms/step - accuracy: 0.5135 - loss: 0.6930\n",
            "Test accuracy for {'dropout_rate': 0.7, 'learning_rate': 0.0001, 'num_layers': 2}: 0.5119491815567017\n",
            "Training with params: {'dropout_rate': 0.7, 'learning_rate': 0.0001, 'num_layers': 3}\n",
            "Epoch 1/5\n",
            "\u001b[1m50/50\u001b[0m \u001b[32m━━━━━━━━━━━━━━━━━━━━\u001b[0m\u001b[37m\u001b[0m \u001b[1m295s\u001b[0m 6s/step - accuracy: 0.5109 - loss: 0.6928 - val_accuracy: 0.5061 - val_loss: 0.6932\n",
            "Epoch 2/5\n",
            "\u001b[1m50/50\u001b[0m \u001b[32m━━━━━━━━━━━━━━━━━━━━\u001b[0m\u001b[37m\u001b[0m \u001b[1m285s\u001b[0m 6s/step - accuracy: 0.5456 - loss: 0.6906 - val_accuracy: 0.5355 - val_loss: 0.6880\n",
            "Epoch 3/5\n",
            "\u001b[1m50/50\u001b[0m \u001b[32m━━━━━━━━━━━━━━━━━━━━\u001b[0m\u001b[37m\u001b[0m \u001b[1m251s\u001b[0m 5s/step - accuracy: 0.6429 - loss: 0.6440 - val_accuracy: 0.7812 - val_loss: 0.4736\n",
            "\u001b[1m155/155\u001b[0m \u001b[32m━━━━━━━━━━━━━━━━━━━━\u001b[0m\u001b[37m\u001b[0m \u001b[1m138s\u001b[0m 886ms/step - accuracy: 0.5138 - loss: 0.6934\n",
            "Test accuracy for {'dropout_rate': 0.7, 'learning_rate': 0.0001, 'num_layers': 3}: 0.5122516751289368\n",
            "Training with params: {'dropout_rate': 0.7, 'learning_rate': 0.001, 'num_layers': 1}\n",
            "Epoch 1/5\n",
            "\u001b[1m50/50\u001b[0m \u001b[32m━━━━━━━━━━━━━━━━━━━━\u001b[0m\u001b[37m\u001b[0m \u001b[1m122s\u001b[0m 2s/step - accuracy: 0.5449 - loss: 0.6794 - val_accuracy: 0.7567 - val_loss: 0.5318\n",
            "Epoch 2/5\n",
            "\u001b[1m50/50\u001b[0m \u001b[32m━━━━━━━━━━━━━━━━━━━━\u001b[0m\u001b[37m\u001b[0m \u001b[1m140s\u001b[0m 2s/step - accuracy: 0.8258 - loss: 0.4303 - val_accuracy: 0.8189 - val_loss: 0.5100\n",
            "Epoch 3/5\n",
            "\u001b[1m50/50\u001b[0m \u001b[32m━━━━━━━━━━━━━━━━━━━━\u001b[0m\u001b[37m\u001b[0m \u001b[1m115s\u001b[0m 2s/step - accuracy: 0.9385 - loss: 0.1729 - val_accuracy: 0.8039 - val_loss: 0.6293\n",
            "\u001b[1m155/155\u001b[0m \u001b[32m━━━━━━━━━━━━━━━━━━━━\u001b[0m\u001b[37m\u001b[0m \u001b[1m65s\u001b[0m 420ms/step - accuracy: 0.7479 - loss: 0.5338\n",
            "Test accuracy for {'dropout_rate': 0.7, 'learning_rate': 0.001, 'num_layers': 1}: 0.7537561655044556\n",
            "Training with params: {'dropout_rate': 0.7, 'learning_rate': 0.001, 'num_layers': 2}\n",
            "Epoch 1/5\n",
            "\u001b[1m50/50\u001b[0m \u001b[32m━━━━━━━━━━━━━━━━━━━━\u001b[0m\u001b[37m\u001b[0m \u001b[1m195s\u001b[0m 4s/step - accuracy: 0.5532 - loss: 0.6739 - val_accuracy: 0.7751 - val_loss: 0.4723\n",
            "Epoch 2/5\n",
            "\u001b[1m50/50\u001b[0m \u001b[32m━━━━━━━━━━━━━━━━━━━━\u001b[0m\u001b[37m\u001b[0m \u001b[1m185s\u001b[0m 4s/step - accuracy: 0.8779 - loss: 0.3231 - val_accuracy: 0.7950 - val_loss: 0.5097\n",
            "Epoch 3/5\n",
            "\u001b[1m50/50\u001b[0m \u001b[32m━━━━━━━━━━━━━━━━━━━━\u001b[0m\u001b[37m\u001b[0m \u001b[1m204s\u001b[0m 4s/step - accuracy: 0.9586 - loss: 0.1202 - val_accuracy: 0.8055 - val_loss: 0.7726\n",
            "\u001b[1m155/155\u001b[0m \u001b[32m━━━━━━━━━━━━━━━━━━━━\u001b[0m\u001b[37m\u001b[0m \u001b[1m103s\u001b[0m 667ms/step - accuracy: 0.7728 - loss: 0.4753\n",
            "Test accuracy for {'dropout_rate': 0.7, 'learning_rate': 0.001, 'num_layers': 2}: 0.7757386565208435\n",
            "Training with params: {'dropout_rate': 0.7, 'learning_rate': 0.001, 'num_layers': 3}\n",
            "Epoch 1/5\n",
            "\u001b[1m50/50\u001b[0m \u001b[32m━━━━━━━━━━━━━━━━━━━━\u001b[0m\u001b[37m\u001b[0m \u001b[1m266s\u001b[0m 5s/step - accuracy: 0.5364 - loss: 0.6815 - val_accuracy: 0.8023 - val_loss: 0.4563\n",
            "Epoch 2/5\n",
            "\u001b[1m50/50\u001b[0m \u001b[32m━━━━━━━━━━━━━━━━━━━━\u001b[0m\u001b[37m\u001b[0m \u001b[1m254s\u001b[0m 5s/step - accuracy: 0.8439 - loss: 0.4032 - val_accuracy: 0.7858 - val_loss: 0.7488\n",
            "Epoch 3/5\n",
            "\u001b[1m50/50\u001b[0m \u001b[32m━━━━━━━━━━━━━━━━━━━━\u001b[0m\u001b[37m\u001b[0m \u001b[1m254s\u001b[0m 5s/step - accuracy: 0.9105 - loss: 0.2517 - val_accuracy: 0.7979 - val_loss: 0.6379\n",
            "\u001b[1m155/155\u001b[0m \u001b[32m━━━━━━━━━━━━━━━━━━━━\u001b[0m\u001b[37m\u001b[0m \u001b[1m137s\u001b[0m 884ms/step - accuracy: 0.7966 - loss: 0.4619\n",
            "Test accuracy for {'dropout_rate': 0.7, 'learning_rate': 0.001, 'num_layers': 3}: 0.7932842373847961\n",
            "Training with params: {'dropout_rate': 0.7, 'learning_rate': 0.01, 'num_layers': 1}\n",
            "Epoch 1/5\n",
            "\u001b[1m50/50\u001b[0m \u001b[32m━━━━━━━━━━━━━━━━━━━━\u001b[0m\u001b[37m\u001b[0m \u001b[1m123s\u001b[0m 2s/step - accuracy: 0.4965 - loss: 0.7579 - val_accuracy: 0.4959 - val_loss: 0.6956\n",
            "Epoch 2/5\n",
            "\u001b[1m50/50\u001b[0m \u001b[32m━━━━━━━━━━━━━━━━━━━━\u001b[0m\u001b[37m\u001b[0m \u001b[1m139s\u001b[0m 2s/step - accuracy: 0.5925 - loss: 0.6694 - val_accuracy: 0.7062 - val_loss: 0.5882\n",
            "Epoch 3/5\n",
            "\u001b[1m50/50\u001b[0m \u001b[32m━━━━━━━━━━━━━━━━━━━━\u001b[0m\u001b[37m\u001b[0m \u001b[1m115s\u001b[0m 2s/step - accuracy: 0.8311 - loss: 0.4290 - val_accuracy: 0.7591 - val_loss: 0.5794\n",
            "\u001b[1m155/155\u001b[0m \u001b[32m━━━━━━━━━━━━━━━━━━━━\u001b[0m\u001b[37m\u001b[0m \u001b[1m67s\u001b[0m 430ms/step - accuracy: 0.5023 - loss: 0.6947\n",
            "Test accuracy for {'dropout_rate': 0.7, 'learning_rate': 0.01, 'num_layers': 1}: 0.5019662976264954\n",
            "Training with params: {'dropout_rate': 0.7, 'learning_rate': 0.01, 'num_layers': 2}\n",
            "Epoch 1/5\n",
            "\u001b[1m50/50\u001b[0m \u001b[32m━━━━━━━━━━━━━━━━━━━━\u001b[0m\u001b[37m\u001b[0m \u001b[1m191s\u001b[0m 4s/step - accuracy: 0.5164 - loss: 0.7878 - val_accuracy: 0.6620 - val_loss: 0.6097\n",
            "Epoch 2/5\n",
            "\u001b[1m50/50\u001b[0m \u001b[32m━━━━━━━━━━━━━━━━━━━━\u001b[0m\u001b[37m\u001b[0m \u001b[1m187s\u001b[0m 4s/step - accuracy: 0.7591 - loss: 0.5301 - val_accuracy: 0.7171 - val_loss: 0.5479\n",
            "Epoch 3/5\n",
            "\u001b[1m50/50\u001b[0m \u001b[32m━━━━━━━━━━━━━━━━━━━━\u001b[0m\u001b[37m\u001b[0m \u001b[1m187s\u001b[0m 4s/step - accuracy: 0.8671 - loss: 0.3369 - val_accuracy: 0.7278 - val_loss: 0.6379\n",
            "\u001b[1m155/155\u001b[0m \u001b[32m━━━━━━━━━━━━━━━━━━━━\u001b[0m\u001b[37m\u001b[0m \u001b[1m103s\u001b[0m 665ms/step - accuracy: 0.6665 - loss: 0.6134\n",
            "Test accuracy for {'dropout_rate': 0.7, 'learning_rate': 0.01, 'num_layers': 2}: 0.6681455969810486\n",
            "Training with params: {'dropout_rate': 0.7, 'learning_rate': 0.01, 'num_layers': 3}\n",
            "Epoch 1/5\n",
            "\u001b[1m50/50\u001b[0m \u001b[32m━━━━━━━━━━━━━━━━━━━━\u001b[0m\u001b[37m\u001b[0m \u001b[1m293s\u001b[0m 6s/step - accuracy: 0.5142 - loss: 0.7535 - val_accuracy: 0.4959 - val_loss: 0.6951\n",
            "Epoch 2/5\n",
            "\u001b[1m50/50\u001b[0m \u001b[32m━━━━━━━━━━━━━━━━━━━━\u001b[0m\u001b[37m\u001b[0m \u001b[1m252s\u001b[0m 5s/step - accuracy: 0.5117 - loss: 0.6937 - val_accuracy: 0.4958 - val_loss: 0.6938\n",
            "Epoch 3/5\n",
            "\u001b[1m50/50\u001b[0m \u001b[32m━━━━━━━━━━━━━━━━━━━━\u001b[0m\u001b[37m\u001b[0m \u001b[1m250s\u001b[0m 5s/step - accuracy: 0.5003 - loss: 0.7159 - val_accuracy: 0.4967 - val_loss: 0.7052\n",
            "\u001b[1m155/155\u001b[0m \u001b[32m━━━━━━━━━━━━━━━━━━━━\u001b[0m\u001b[37m\u001b[0m \u001b[1m143s\u001b[0m 926ms/step - accuracy: 0.5023 - loss: 0.6944\n",
            "Test accuracy for {'dropout_rate': 0.7, 'learning_rate': 0.01, 'num_layers': 3}: 0.5019662976264954\n",
            "Best accuracy: 0.8131491541862488\n",
            "Best parameters: {'dropout_rate': 0.3, 'learning_rate': 0.0001, 'num_layers': 1}\n"
          ]
        }
      ]
    },
    {
      "cell_type": "markdown",
      "source": [
        "#Model"
      ],
      "metadata": {
        "id": "nIWpLxtyJcWo"
      }
    },
    {
      "cell_type": "code",
      "source": [
        "\n",
        "# شناسایی TPU\n",
        "try:\n",
        "    tpu = tf.distribute.cluster_resolver.TPUClusterResolver()\n",
        "    print(f\"Running on TPU: {tpu.master()}\")\n",
        "    tf.config.experimental_connect_to_cluster(tpu)\n",
        "    tf.tpu.experimental.initialize_tpu_system(tpu)\n",
        "    strategy = tf.distribute.TPUStrategy(tpu)\n",
        "except ValueError:\n",
        "    print(\"TPU not found. Using default strategy.\")\n",
        "    strategy = tf.distribute.get_strategy()\n",
        "\n",
        "print(f\"Number of replicas: {strategy.num_replicas_in_sync}\")"
      ],
      "metadata": {
        "colab": {
          "base_uri": "https://localhost:8080/"
        },
        "id": "iq8opnDVXzK_",
        "outputId": "11d0ce26-9683-47ce-fae5-cbbdedb738dc"
      },
      "execution_count": 22,
      "outputs": [
        {
          "output_type": "stream",
          "name": "stdout",
          "text": [
            "Running on TPU: \n",
            "Number of replicas: 8\n"
          ]
        }
      ]
    },
    {
      "cell_type": "code",
      "source": [
        "# تنظیمات اولیه\n",
        "max_len = 200\n",
        "vocab_size = 10000\n",
        "embedding_dim = 128\n",
        "hyperparams = {'dropout_rate': 0.5, 'learning_rate': 0.001, 'num_layers': 1}\n",
        "\n",
        "# تقسیم داده‌ها به آموزش، اعتبارسنجی و تست\n",
        "X_train, X_test, y_train, y_test = train_test_split(df['processed_review'], df['sentiment'], test_size=0.2, random_state=42)\n",
        "X_train, X_val, y_train, y_val = train_test_split(X_train, y_train, test_size=0.2, random_state=42)\n",
        "\n",
        "# استفاده از Tokenizer برای توکن‌سازی داده‌ها\n",
        "tokenizer = Tokenizer(num_words=10000)\n",
        "tokenizer.fit_on_texts(X_train)\n",
        "\n",
        "# تبدیل متن‌ها به توکن‌های عددی\n",
        "X_train_seq = tokenizer.texts_to_sequences(X_train)\n",
        "X_val_seq = tokenizer.texts_to_sequences(X_val)\n",
        "X_test_seq = tokenizer.texts_to_sequences(X_test)\n",
        "\n",
        "# پدینگ توکن‌ها\n",
        "max_len = 200\n",
        "X_train_pad = pad_sequences(X_train_seq, maxlen=max_len)\n",
        "X_val_pad = pad_sequences(X_val_seq, maxlen=max_len)\n",
        "X_test_pad = pad_sequences(X_test_seq, maxlen=max_len)\n",
        "\n",
        "# تبدیل برچسب‌ها به عددی\n",
        "encoder = LabelEncoder()\n",
        "y_train = encoder.fit_transform(y_train)\n",
        "y_val = encoder.transform(y_val)\n",
        "y_test = encoder.transform(y_test)\n",
        "\n",
        "# تبدیل به tf.data.Dataset\n",
        "train_dataset = tf.data.Dataset.from_tensor_slices((X_train_pad, y_train))\n",
        "val_dataset = tf.data.Dataset.from_tensor_slices((X_val_pad, y_val))\n",
        "test_dataset = tf.data.Dataset.from_tensor_slices((X_test_pad, y_test))\n",
        "\n",
        "train_dataset = train_dataset.batch(32).shuffle(1000)\n",
        "val_dataset = val_dataset.batch(32)\n",
        "test_dataset = test_dataset.batch(32)\n",
        "\n",
        "# تابع ایجاد مدل\n",
        "def create_model(num_layers=2, learning_rate=0.001, vocab_size=5000, embedding_dim=128, sequence_length=200):\n",
        "    input_layer = Input(shape=(sequence_length,))\n",
        "\n",
        "    # لایه embedding\n",
        "    embedding_layer = Embedding(input_dim=vocab_size, output_dim=embedding_dim)(input_layer)\n",
        "\n",
        "    # لایه‌های LSTM و توجه\n",
        "    x = embedding_layer\n",
        "    for _ in range(num_layers):\n",
        "        x = LSTM(128, return_sequences=True)(x)\n",
        "        attention_layer = Attention()([x, x])  # اعمال توجه\n",
        "        x = Concatenate()([x, attention_layer])\n",
        "\n",
        "    x = Reshape((-1, 256))(x)  # تغییر شکل خروجی\n",
        "    x = LSTM(128)(x)  # LSTM نهایی\n",
        "\n",
        "    # لایه‌های Dropout و Dense\n",
        "    x = Dropout(0.5)(x)\n",
        "    output_layer = Dense(1, activation='sigmoid')(x)\n",
        "\n",
        "    # ساخت مدل\n",
        "    model = Model(inputs=input_layer, outputs=output_layer)\n",
        "\n",
        "    # کامپایل مدل\n",
        "    model.compile(optimizer=tf.keras.optimizers.Adam(learning_rate=learning_rate),\n",
        "                  loss='binary_crossentropy', metrics=['accuracy'])\n",
        "\n",
        "    return model\n",
        "\n",
        "# تعریف EarlyStopping\n",
        "early_stopping = EarlyStopping(monitor='val_loss', patience=3, restore_best_weights=True)\n",
        "\n",
        "\n",
        "# ساخت مدل با مکانیزم توجه\n",
        "with strategy.scope():\n",
        "    model = create_model(num_layers=2, learning_rate=0.001)\n",
        "    model.compile(optimizer=tf.keras.optimizers.Adam(learning_rate=0.001),\n",
        "                  loss='binary_crossentropy',\n",
        "                  metrics=['accuracy'])\n",
        "\n",
        "    # آموزش مدل با داده‌ها و اضافه کردن EarlyStopping\n",
        "    history = model.fit(train_dataset, epochs=50, validation_data=val_dataset, callbacks=[early_stopping])\n",
        "\n",
        "    # ارزیابی مدل روی داده‌های تست\n",
        "    test_loss, test_acc = model.evaluate(test_dataset)\n",
        "    print(f\"Test accuracy: {test_acc}\")\n"
      ],
      "metadata": {
        "colab": {
          "base_uri": "https://localhost:8080/"
        },
        "id": "_gVtn2V0K8LC",
        "outputId": "c89d5bba-3201-45be-dd54-d99eebd9df45"
      },
      "execution_count": 25,
      "outputs": [
        {
          "output_type": "stream",
          "name": "stdout",
          "text": [
            "Epoch 1/50\n",
            "\u001b[1m992/992\u001b[0m \u001b[32m━━━━━━━━━━━━━━━━━━━━\u001b[0m\u001b[37m\u001b[0m \u001b[1m61s\u001b[0m 54ms/step - accuracy: 0.7837 - loss: 0.4274 - val_accuracy: 0.8790 - val_loss: 0.2958\n",
            "Epoch 2/50\n",
            "\u001b[1m992/992\u001b[0m \u001b[32m━━━━━━━━━━━━━━━━━━━━\u001b[0m\u001b[37m\u001b[0m \u001b[1m49s\u001b[0m 49ms/step - accuracy: 0.9193 - loss: 0.2146 - val_accuracy: 0.8841 - val_loss: 0.2812\n",
            "Epoch 3/50\n",
            "\u001b[1m992/992\u001b[0m \u001b[32m━━━━━━━━━━━━━━━━━━━━\u001b[0m\u001b[37m\u001b[0m \u001b[1m49s\u001b[0m 49ms/step - accuracy: 0.9444 - loss: 0.1537 - val_accuracy: 0.8790 - val_loss: 0.3011\n",
            "Epoch 4/50\n",
            "\u001b[1m992/992\u001b[0m \u001b[32m━━━━━━━━━━━━━━━━━━━━\u001b[0m\u001b[37m\u001b[0m \u001b[1m49s\u001b[0m 49ms/step - accuracy: 0.9565 - loss: 0.1237 - val_accuracy: 0.8841 - val_loss: 0.3310\n",
            "Epoch 5/50\n",
            "\u001b[1m992/992\u001b[0m \u001b[32m━━━━━━━━━━━━━━━━━━━━\u001b[0m\u001b[37m\u001b[0m \u001b[1m49s\u001b[0m 49ms/step - accuracy: 0.9611 - loss: 0.1042 - val_accuracy: 0.8780 - val_loss: 0.3414\n",
            "\u001b[1m310/310\u001b[0m \u001b[32m━━━━━━━━━━━━━━━━━━━━\u001b[0m\u001b[37m\u001b[0m \u001b[1m5s\u001b[0m 13ms/step - accuracy: 0.8707 - loss: 0.3137\n",
            "Test accuracy: 0.874193549156189\n"
          ]
        }
      ]
    },
    {
      "cell_type": "code",
      "source": [
        "model.summary()  # بررسی معماری مدل"
      ],
      "metadata": {
        "colab": {
          "base_uri": "https://localhost:8080/",
          "height": 618
        },
        "id": "GXSGRoe7TS5y",
        "outputId": "780a70af-d5d2-4c57-a82f-fcc0a16c589f"
      },
      "execution_count": 26,
      "outputs": [
        {
          "output_type": "display_data",
          "data": {
            "text/plain": [
              "\u001b[1mModel: \"functional_1\"\u001b[0m\n"
            ],
            "text/html": [
              "<pre style=\"white-space:pre;overflow-x:auto;line-height:normal;font-family:Menlo,'DejaVu Sans Mono',consolas,'Courier New',monospace\"><span style=\"font-weight: bold\">Model: \"functional_1\"</span>\n",
              "</pre>\n"
            ]
          },
          "metadata": {}
        },
        {
          "output_type": "display_data",
          "data": {
            "text/plain": [
              "┏━━━━━━━━━━━━━━━━━━━━━━━━━━━┳━━━━━━━━━━━━━━━━━━━━━━━━┳━━━━━━━━━━━━━━━━┳━━━━━━━━━━━━━━━━━━━━━━━━┓\n",
              "┃\u001b[1m \u001b[0m\u001b[1mLayer (type)             \u001b[0m\u001b[1m \u001b[0m┃\u001b[1m \u001b[0m\u001b[1mOutput Shape          \u001b[0m\u001b[1m \u001b[0m┃\u001b[1m \u001b[0m\u001b[1m       Param #\u001b[0m\u001b[1m \u001b[0m┃\u001b[1m \u001b[0m\u001b[1mConnected to          \u001b[0m\u001b[1m \u001b[0m┃\n",
              "┡━━━━━━━━━━━━━━━━━━━━━━━━━━━╇━━━━━━━━━━━━━━━━━━━━━━━━╇━━━━━━━━━━━━━━━━╇━━━━━━━━━━━━━━━━━━━━━━━━┩\n",
              "│ input_layer_1             │ (\u001b[38;5;45mNone\u001b[0m, \u001b[38;5;34m200\u001b[0m)            │              \u001b[38;5;34m0\u001b[0m │ -                      │\n",
              "│ (\u001b[38;5;33mInputLayer\u001b[0m)              │                        │                │                        │\n",
              "├───────────────────────────┼────────────────────────┼────────────────┼────────────────────────┤\n",
              "│ embedding_1 (\u001b[38;5;33mEmbedding\u001b[0m)   │ (\u001b[38;5;45mNone\u001b[0m, \u001b[38;5;34m200\u001b[0m, \u001b[38;5;34m128\u001b[0m)       │        \u001b[38;5;34m640,000\u001b[0m │ input_layer_1[\u001b[38;5;34m0\u001b[0m][\u001b[38;5;34m0\u001b[0m]    │\n",
              "├───────────────────────────┼────────────────────────┼────────────────┼────────────────────────┤\n",
              "│ lstm_3 (\u001b[38;5;33mLSTM\u001b[0m)             │ (\u001b[38;5;45mNone\u001b[0m, \u001b[38;5;34m200\u001b[0m, \u001b[38;5;34m128\u001b[0m)       │        \u001b[38;5;34m131,584\u001b[0m │ embedding_1[\u001b[38;5;34m0\u001b[0m][\u001b[38;5;34m0\u001b[0m]      │\n",
              "├───────────────────────────┼────────────────────────┼────────────────┼────────────────────────┤\n",
              "│ attention_2 (\u001b[38;5;33mAttention\u001b[0m)   │ (\u001b[38;5;45mNone\u001b[0m, \u001b[38;5;34m200\u001b[0m, \u001b[38;5;34m128\u001b[0m)       │              \u001b[38;5;34m0\u001b[0m │ lstm_3[\u001b[38;5;34m0\u001b[0m][\u001b[38;5;34m0\u001b[0m],          │\n",
              "│                           │                        │                │ lstm_3[\u001b[38;5;34m0\u001b[0m][\u001b[38;5;34m0\u001b[0m]           │\n",
              "├───────────────────────────┼────────────────────────┼────────────────┼────────────────────────┤\n",
              "│ concatenate_2             │ (\u001b[38;5;45mNone\u001b[0m, \u001b[38;5;34m200\u001b[0m, \u001b[38;5;34m256\u001b[0m)       │              \u001b[38;5;34m0\u001b[0m │ lstm_3[\u001b[38;5;34m0\u001b[0m][\u001b[38;5;34m0\u001b[0m],          │\n",
              "│ (\u001b[38;5;33mConcatenate\u001b[0m)             │                        │                │ attention_2[\u001b[38;5;34m0\u001b[0m][\u001b[38;5;34m0\u001b[0m]      │\n",
              "├───────────────────────────┼────────────────────────┼────────────────┼────────────────────────┤\n",
              "│ lstm_4 (\u001b[38;5;33mLSTM\u001b[0m)             │ (\u001b[38;5;45mNone\u001b[0m, \u001b[38;5;34m200\u001b[0m, \u001b[38;5;34m128\u001b[0m)       │        \u001b[38;5;34m197,120\u001b[0m │ concatenate_2[\u001b[38;5;34m0\u001b[0m][\u001b[38;5;34m0\u001b[0m]    │\n",
              "├───────────────────────────┼────────────────────────┼────────────────┼────────────────────────┤\n",
              "│ attention_3 (\u001b[38;5;33mAttention\u001b[0m)   │ (\u001b[38;5;45mNone\u001b[0m, \u001b[38;5;34m200\u001b[0m, \u001b[38;5;34m128\u001b[0m)       │              \u001b[38;5;34m0\u001b[0m │ lstm_4[\u001b[38;5;34m0\u001b[0m][\u001b[38;5;34m0\u001b[0m],          │\n",
              "│                           │                        │                │ lstm_4[\u001b[38;5;34m0\u001b[0m][\u001b[38;5;34m0\u001b[0m]           │\n",
              "├───────────────────────────┼────────────────────────┼────────────────┼────────────────────────┤\n",
              "│ concatenate_3             │ (\u001b[38;5;45mNone\u001b[0m, \u001b[38;5;34m200\u001b[0m, \u001b[38;5;34m256\u001b[0m)       │              \u001b[38;5;34m0\u001b[0m │ lstm_4[\u001b[38;5;34m0\u001b[0m][\u001b[38;5;34m0\u001b[0m],          │\n",
              "│ (\u001b[38;5;33mConcatenate\u001b[0m)             │                        │                │ attention_3[\u001b[38;5;34m0\u001b[0m][\u001b[38;5;34m0\u001b[0m]      │\n",
              "├───────────────────────────┼────────────────────────┼────────────────┼────────────────────────┤\n",
              "│ reshape_1 (\u001b[38;5;33mReshape\u001b[0m)       │ (\u001b[38;5;45mNone\u001b[0m, \u001b[38;5;34m200\u001b[0m, \u001b[38;5;34m256\u001b[0m)       │              \u001b[38;5;34m0\u001b[0m │ concatenate_3[\u001b[38;5;34m0\u001b[0m][\u001b[38;5;34m0\u001b[0m]    │\n",
              "├───────────────────────────┼────────────────────────┼────────────────┼────────────────────────┤\n",
              "│ lstm_5 (\u001b[38;5;33mLSTM\u001b[0m)             │ (\u001b[38;5;45mNone\u001b[0m, \u001b[38;5;34m128\u001b[0m)            │        \u001b[38;5;34m197,120\u001b[0m │ reshape_1[\u001b[38;5;34m0\u001b[0m][\u001b[38;5;34m0\u001b[0m]        │\n",
              "├───────────────────────────┼────────────────────────┼────────────────┼────────────────────────┤\n",
              "│ dropout_1 (\u001b[38;5;33mDropout\u001b[0m)       │ (\u001b[38;5;45mNone\u001b[0m, \u001b[38;5;34m128\u001b[0m)            │              \u001b[38;5;34m0\u001b[0m │ lstm_5[\u001b[38;5;34m0\u001b[0m][\u001b[38;5;34m0\u001b[0m]           │\n",
              "├───────────────────────────┼────────────────────────┼────────────────┼────────────────────────┤\n",
              "│ dense_1 (\u001b[38;5;33mDense\u001b[0m)           │ (\u001b[38;5;45mNone\u001b[0m, \u001b[38;5;34m1\u001b[0m)              │            \u001b[38;5;34m129\u001b[0m │ dropout_1[\u001b[38;5;34m0\u001b[0m][\u001b[38;5;34m0\u001b[0m]        │\n",
              "└───────────────────────────┴────────────────────────┴────────────────┴────────────────────────┘\n"
            ],
            "text/html": [
              "<pre style=\"white-space:pre;overflow-x:auto;line-height:normal;font-family:Menlo,'DejaVu Sans Mono',consolas,'Courier New',monospace\">┏━━━━━━━━━━━━━━━━━━━━━━━━━━━┳━━━━━━━━━━━━━━━━━━━━━━━━┳━━━━━━━━━━━━━━━━┳━━━━━━━━━━━━━━━━━━━━━━━━┓\n",
              "┃<span style=\"font-weight: bold\"> Layer (type)              </span>┃<span style=\"font-weight: bold\"> Output Shape           </span>┃<span style=\"font-weight: bold\">        Param # </span>┃<span style=\"font-weight: bold\"> Connected to           </span>┃\n",
              "┡━━━━━━━━━━━━━━━━━━━━━━━━━━━╇━━━━━━━━━━━━━━━━━━━━━━━━╇━━━━━━━━━━━━━━━━╇━━━━━━━━━━━━━━━━━━━━━━━━┩\n",
              "│ input_layer_1             │ (<span style=\"color: #00d7ff; text-decoration-color: #00d7ff\">None</span>, <span style=\"color: #00af00; text-decoration-color: #00af00\">200</span>)            │              <span style=\"color: #00af00; text-decoration-color: #00af00\">0</span> │ -                      │\n",
              "│ (<span style=\"color: #0087ff; text-decoration-color: #0087ff\">InputLayer</span>)              │                        │                │                        │\n",
              "├───────────────────────────┼────────────────────────┼────────────────┼────────────────────────┤\n",
              "│ embedding_1 (<span style=\"color: #0087ff; text-decoration-color: #0087ff\">Embedding</span>)   │ (<span style=\"color: #00d7ff; text-decoration-color: #00d7ff\">None</span>, <span style=\"color: #00af00; text-decoration-color: #00af00\">200</span>, <span style=\"color: #00af00; text-decoration-color: #00af00\">128</span>)       │        <span style=\"color: #00af00; text-decoration-color: #00af00\">640,000</span> │ input_layer_1[<span style=\"color: #00af00; text-decoration-color: #00af00\">0</span>][<span style=\"color: #00af00; text-decoration-color: #00af00\">0</span>]    │\n",
              "├───────────────────────────┼────────────────────────┼────────────────┼────────────────────────┤\n",
              "│ lstm_3 (<span style=\"color: #0087ff; text-decoration-color: #0087ff\">LSTM</span>)             │ (<span style=\"color: #00d7ff; text-decoration-color: #00d7ff\">None</span>, <span style=\"color: #00af00; text-decoration-color: #00af00\">200</span>, <span style=\"color: #00af00; text-decoration-color: #00af00\">128</span>)       │        <span style=\"color: #00af00; text-decoration-color: #00af00\">131,584</span> │ embedding_1[<span style=\"color: #00af00; text-decoration-color: #00af00\">0</span>][<span style=\"color: #00af00; text-decoration-color: #00af00\">0</span>]      │\n",
              "├───────────────────────────┼────────────────────────┼────────────────┼────────────────────────┤\n",
              "│ attention_2 (<span style=\"color: #0087ff; text-decoration-color: #0087ff\">Attention</span>)   │ (<span style=\"color: #00d7ff; text-decoration-color: #00d7ff\">None</span>, <span style=\"color: #00af00; text-decoration-color: #00af00\">200</span>, <span style=\"color: #00af00; text-decoration-color: #00af00\">128</span>)       │              <span style=\"color: #00af00; text-decoration-color: #00af00\">0</span> │ lstm_3[<span style=\"color: #00af00; text-decoration-color: #00af00\">0</span>][<span style=\"color: #00af00; text-decoration-color: #00af00\">0</span>],          │\n",
              "│                           │                        │                │ lstm_3[<span style=\"color: #00af00; text-decoration-color: #00af00\">0</span>][<span style=\"color: #00af00; text-decoration-color: #00af00\">0</span>]           │\n",
              "├───────────────────────────┼────────────────────────┼────────────────┼────────────────────────┤\n",
              "│ concatenate_2             │ (<span style=\"color: #00d7ff; text-decoration-color: #00d7ff\">None</span>, <span style=\"color: #00af00; text-decoration-color: #00af00\">200</span>, <span style=\"color: #00af00; text-decoration-color: #00af00\">256</span>)       │              <span style=\"color: #00af00; text-decoration-color: #00af00\">0</span> │ lstm_3[<span style=\"color: #00af00; text-decoration-color: #00af00\">0</span>][<span style=\"color: #00af00; text-decoration-color: #00af00\">0</span>],          │\n",
              "│ (<span style=\"color: #0087ff; text-decoration-color: #0087ff\">Concatenate</span>)             │                        │                │ attention_2[<span style=\"color: #00af00; text-decoration-color: #00af00\">0</span>][<span style=\"color: #00af00; text-decoration-color: #00af00\">0</span>]      │\n",
              "├───────────────────────────┼────────────────────────┼────────────────┼────────────────────────┤\n",
              "│ lstm_4 (<span style=\"color: #0087ff; text-decoration-color: #0087ff\">LSTM</span>)             │ (<span style=\"color: #00d7ff; text-decoration-color: #00d7ff\">None</span>, <span style=\"color: #00af00; text-decoration-color: #00af00\">200</span>, <span style=\"color: #00af00; text-decoration-color: #00af00\">128</span>)       │        <span style=\"color: #00af00; text-decoration-color: #00af00\">197,120</span> │ concatenate_2[<span style=\"color: #00af00; text-decoration-color: #00af00\">0</span>][<span style=\"color: #00af00; text-decoration-color: #00af00\">0</span>]    │\n",
              "├───────────────────────────┼────────────────────────┼────────────────┼────────────────────────┤\n",
              "│ attention_3 (<span style=\"color: #0087ff; text-decoration-color: #0087ff\">Attention</span>)   │ (<span style=\"color: #00d7ff; text-decoration-color: #00d7ff\">None</span>, <span style=\"color: #00af00; text-decoration-color: #00af00\">200</span>, <span style=\"color: #00af00; text-decoration-color: #00af00\">128</span>)       │              <span style=\"color: #00af00; text-decoration-color: #00af00\">0</span> │ lstm_4[<span style=\"color: #00af00; text-decoration-color: #00af00\">0</span>][<span style=\"color: #00af00; text-decoration-color: #00af00\">0</span>],          │\n",
              "│                           │                        │                │ lstm_4[<span style=\"color: #00af00; text-decoration-color: #00af00\">0</span>][<span style=\"color: #00af00; text-decoration-color: #00af00\">0</span>]           │\n",
              "├───────────────────────────┼────────────────────────┼────────────────┼────────────────────────┤\n",
              "│ concatenate_3             │ (<span style=\"color: #00d7ff; text-decoration-color: #00d7ff\">None</span>, <span style=\"color: #00af00; text-decoration-color: #00af00\">200</span>, <span style=\"color: #00af00; text-decoration-color: #00af00\">256</span>)       │              <span style=\"color: #00af00; text-decoration-color: #00af00\">0</span> │ lstm_4[<span style=\"color: #00af00; text-decoration-color: #00af00\">0</span>][<span style=\"color: #00af00; text-decoration-color: #00af00\">0</span>],          │\n",
              "│ (<span style=\"color: #0087ff; text-decoration-color: #0087ff\">Concatenate</span>)             │                        │                │ attention_3[<span style=\"color: #00af00; text-decoration-color: #00af00\">0</span>][<span style=\"color: #00af00; text-decoration-color: #00af00\">0</span>]      │\n",
              "├───────────────────────────┼────────────────────────┼────────────────┼────────────────────────┤\n",
              "│ reshape_1 (<span style=\"color: #0087ff; text-decoration-color: #0087ff\">Reshape</span>)       │ (<span style=\"color: #00d7ff; text-decoration-color: #00d7ff\">None</span>, <span style=\"color: #00af00; text-decoration-color: #00af00\">200</span>, <span style=\"color: #00af00; text-decoration-color: #00af00\">256</span>)       │              <span style=\"color: #00af00; text-decoration-color: #00af00\">0</span> │ concatenate_3[<span style=\"color: #00af00; text-decoration-color: #00af00\">0</span>][<span style=\"color: #00af00; text-decoration-color: #00af00\">0</span>]    │\n",
              "├───────────────────────────┼────────────────────────┼────────────────┼────────────────────────┤\n",
              "│ lstm_5 (<span style=\"color: #0087ff; text-decoration-color: #0087ff\">LSTM</span>)             │ (<span style=\"color: #00d7ff; text-decoration-color: #00d7ff\">None</span>, <span style=\"color: #00af00; text-decoration-color: #00af00\">128</span>)            │        <span style=\"color: #00af00; text-decoration-color: #00af00\">197,120</span> │ reshape_1[<span style=\"color: #00af00; text-decoration-color: #00af00\">0</span>][<span style=\"color: #00af00; text-decoration-color: #00af00\">0</span>]        │\n",
              "├───────────────────────────┼────────────────────────┼────────────────┼────────────────────────┤\n",
              "│ dropout_1 (<span style=\"color: #0087ff; text-decoration-color: #0087ff\">Dropout</span>)       │ (<span style=\"color: #00d7ff; text-decoration-color: #00d7ff\">None</span>, <span style=\"color: #00af00; text-decoration-color: #00af00\">128</span>)            │              <span style=\"color: #00af00; text-decoration-color: #00af00\">0</span> │ lstm_5[<span style=\"color: #00af00; text-decoration-color: #00af00\">0</span>][<span style=\"color: #00af00; text-decoration-color: #00af00\">0</span>]           │\n",
              "├───────────────────────────┼────────────────────────┼────────────────┼────────────────────────┤\n",
              "│ dense_1 (<span style=\"color: #0087ff; text-decoration-color: #0087ff\">Dense</span>)           │ (<span style=\"color: #00d7ff; text-decoration-color: #00d7ff\">None</span>, <span style=\"color: #00af00; text-decoration-color: #00af00\">1</span>)              │            <span style=\"color: #00af00; text-decoration-color: #00af00\">129</span> │ dropout_1[<span style=\"color: #00af00; text-decoration-color: #00af00\">0</span>][<span style=\"color: #00af00; text-decoration-color: #00af00\">0</span>]        │\n",
              "└───────────────────────────┴────────────────────────┴────────────────┴────────────────────────┘\n",
              "</pre>\n"
            ]
          },
          "metadata": {}
        },
        {
          "output_type": "display_data",
          "data": {
            "text/plain": [
              "\u001b[1m Total params: \u001b[0m\u001b[38;5;34m3,497,861\u001b[0m (13.34 MB)\n"
            ],
            "text/html": [
              "<pre style=\"white-space:pre;overflow-x:auto;line-height:normal;font-family:Menlo,'DejaVu Sans Mono',consolas,'Courier New',monospace\"><span style=\"font-weight: bold\"> Total params: </span><span style=\"color: #00af00; text-decoration-color: #00af00\">3,497,861</span> (13.34 MB)\n",
              "</pre>\n"
            ]
          },
          "metadata": {}
        },
        {
          "output_type": "display_data",
          "data": {
            "text/plain": [
              "\u001b[1m Trainable params: \u001b[0m\u001b[38;5;34m1,165,953\u001b[0m (4.45 MB)\n"
            ],
            "text/html": [
              "<pre style=\"white-space:pre;overflow-x:auto;line-height:normal;font-family:Menlo,'DejaVu Sans Mono',consolas,'Courier New',monospace\"><span style=\"font-weight: bold\"> Trainable params: </span><span style=\"color: #00af00; text-decoration-color: #00af00\">1,165,953</span> (4.45 MB)\n",
              "</pre>\n"
            ]
          },
          "metadata": {}
        },
        {
          "output_type": "display_data",
          "data": {
            "text/plain": [
              "\u001b[1m Non-trainable params: \u001b[0m\u001b[38;5;34m0\u001b[0m (0.00 B)\n"
            ],
            "text/html": [
              "<pre style=\"white-space:pre;overflow-x:auto;line-height:normal;font-family:Menlo,'DejaVu Sans Mono',consolas,'Courier New',monospace\"><span style=\"font-weight: bold\"> Non-trainable params: </span><span style=\"color: #00af00; text-decoration-color: #00af00\">0</span> (0.00 B)\n",
              "</pre>\n"
            ]
          },
          "metadata": {}
        },
        {
          "output_type": "display_data",
          "data": {
            "text/plain": [
              "\u001b[1m Optimizer params: \u001b[0m\u001b[38;5;34m2,331,908\u001b[0m (8.90 MB)\n"
            ],
            "text/html": [
              "<pre style=\"white-space:pre;overflow-x:auto;line-height:normal;font-family:Menlo,'DejaVu Sans Mono',consolas,'Courier New',monospace\"><span style=\"font-weight: bold\"> Optimizer params: </span><span style=\"color: #00af00; text-decoration-color: #00af00\">2,331,908</span> (8.90 MB)\n",
              "</pre>\n"
            ]
          },
          "metadata": {}
        }
      ]
    },
    {
      "cell_type": "code",
      "source": [
        "# ذخیره مدل\n",
        "model_save_path = \"attention_model.h5\"\n",
        "model.save(model_save_path)\n",
        "print(f\"Model saved at {model_save_path}\")"
      ],
      "metadata": {
        "colab": {
          "base_uri": "https://localhost:8080/"
        },
        "id": "kxm_1qf_YgGx",
        "outputId": "f13e08cc-a12d-4c88-ac7d-13dda3decaaa"
      },
      "execution_count": 30,
      "outputs": [
        {
          "output_type": "stream",
          "name": "stderr",
          "text": [
            "WARNING:absl:You are saving your model as an HDF5 file via `model.save()` or `keras.saving.save_model(model)`. This file format is considered legacy. We recommend using instead the native Keras format, e.g. `model.save('my_model.keras')` or `keras.saving.save_model(model, 'my_model.keras')`. \n"
          ]
        },
        {
          "output_type": "stream",
          "name": "stdout",
          "text": [
            "Model saved at attention_model.h5\n"
          ]
        }
      ]
    },
    {
      "cell_type": "code",
      "source": [
        "# بارگذاری مدل ذخیره شده\n",
        "with strategy.scope():\n",
        "    loaded_model = tf.keras.models.load_model(model_save_path, custom_objects={'Attention': Attention})"
      ],
      "metadata": {
        "id": "XyuCX9IzYh07",
        "colab": {
          "base_uri": "https://localhost:8080/"
        },
        "outputId": "893de268-ff79-4e8d-b483-642dca979a06"
      },
      "execution_count": 31,
      "outputs": [
        {
          "output_type": "stream",
          "name": "stderr",
          "text": [
            "WARNING:absl:Compiled the loaded model, but the compiled metrics have yet to be built. `model.compile_metrics` will be empty until you train or evaluate the model.\n"
          ]
        }
      ]
    },
    {
      "cell_type": "code",
      "source": [
        "# ارزیابی مدل\n",
        "test_loss, test_acc = loaded_model.evaluate(test_dataset)\n",
        "print(f\"Test Accuracy: {test_acc}\")\n"
      ],
      "metadata": {
        "id": "_4oGiGdkYlCD",
        "colab": {
          "base_uri": "https://localhost:8080/"
        },
        "outputId": "40258721-5041-4ee4-85e2-326931e29dee"
      },
      "execution_count": 32,
      "outputs": [
        {
          "output_type": "stream",
          "name": "stdout",
          "text": [
            "\u001b[1m310/310\u001b[0m \u001b[32m━━━━━━━━━━━━━━━━━━━━\u001b[0m\u001b[37m\u001b[0m \u001b[1m7s\u001b[0m 13ms/step - accuracy: 0.8595 - loss: 0.4094\n",
            "Test Accuracy: 0.8637096881866455\n"
          ]
        }
      ]
    },
    {
      "cell_type": "code",
      "source": [
        "# استخراج وزن‌های توجه با استفاده از استراتژی\n",
        "def extract_attention_weights(model, sample_input, strategy):\n",
        "    with strategy.scope():\n",
        "        attention_layer = [layer for layer in model.layers if isinstance(layer, Attention)][0]\n",
        "        attention_model = Model(inputs=model.input, outputs=attention_layer.output)\n",
        "        return attention_model.predict(sample_input)\n",
        "\n",
        "# دسته‌بندی نمونه‌ها و نمایش نتایج\n",
        "sample_texts = [\"The movie was fantastic!\", \"I didn’t enjoy the film at all.\"]\n",
        "sample_sequences = tokenizer.texts_to_sequences(sample_texts)\n",
        "sample_padded = tf.keras.preprocessing.sequence.pad_sequences(sample_sequences, maxlen=max_len)\n",
        "\n",
        "# استخراج وزن‌های توجه\n",
        "attention_weights = extract_attention_weights(loaded_model, sample_padded, strategy)\n",
        "\n",
        "# پیش‌بینی و نمایش نتایج\n",
        "predictions = loaded_model.predict(sample_padded)\n",
        "\n",
        "for text, pred, weights in zip(sample_texts, predictions, attention_weights):\n",
        "    sentiment = \"Positive\" if pred > 0.5 else \"Negative\"\n",
        "    print(f\"Review: {text}\\nPredicted Sentiment: {sentiment}\\n\")\n",
        "    print(f\"Attention Weights: {weights}\\n\")\n"
      ],
      "metadata": {
        "colab": {
          "base_uri": "https://localhost:8080/"
        },
        "id": "uvTK1zSibs-Z",
        "outputId": "5e42f0b1-c232-487a-f04d-f6a696b72f8b"
      },
      "execution_count": 33,
      "outputs": [
        {
          "output_type": "stream",
          "name": "stdout",
          "text": [
            "\u001b[1m1/1\u001b[0m \u001b[32m━━━━━━━━━━━━━━━━━━━━\u001b[0m\u001b[37m\u001b[0m \u001b[1m2s\u001b[0m 2s/step\n",
            "\u001b[1m1/1\u001b[0m \u001b[32m━━━━━━━━━━━━━━━━━━━━\u001b[0m\u001b[37m\u001b[0m \u001b[1m2s\u001b[0m 2s/step\n",
            "Review: The movie was fantastic!\n",
            "Predicted Sentiment: Positive\n",
            "\n",
            "Attention Weights: [[-0.00085373 -0.00731761 -0.00643154 ...  0.00071232 -0.00337174\n",
            "  -0.00487617]\n",
            " [-0.00085186 -0.00731593 -0.00643148 ...  0.00071935 -0.00337391\n",
            "  -0.00487675]\n",
            " [-0.00085186 -0.00731593 -0.00643148 ...  0.00071935 -0.00337391\n",
            "  -0.00487675]\n",
            " ...\n",
            " [-0.00085184 -0.0073158  -0.00643126 ...  0.0007193  -0.0033738\n",
            "  -0.00487663]\n",
            " [-0.0008593  -0.00732248 -0.0064304  ...  0.00069128 -0.00336431\n",
            "  -0.00487459]\n",
            " [-0.00223181 -0.00835351 -0.00618002 ... -0.00462935 -0.00159116\n",
            "  -0.00425432]]\n",
            "\n",
            "Review: I didn’t enjoy the film at all.\n",
            "Predicted Sentiment: Positive\n",
            "\n",
            "Attention Weights: [[-0.00050889 -0.00712118 -0.00656279 ...  0.00124743 -0.00405956\n",
            "  -0.00443887]\n",
            " [-0.00050888 -0.00712111 -0.0065626  ...  0.00124739 -0.00405948\n",
            "  -0.00443879]\n",
            " [-0.00050888 -0.00712111 -0.0065626  ...  0.00124739 -0.00405948\n",
            "  -0.00443879]\n",
            " ...\n",
            " [-0.00050886 -0.00712098 -0.00656238 ...  0.00124734 -0.00405937\n",
            "  -0.00443866]\n",
            " [-0.00050342 -0.00713616 -0.00658232 ...  0.00116138 -0.0041106\n",
            "  -0.00436254]\n",
            " [-0.00050556 -0.00713024 -0.00656777 ...  0.00119677 -0.00408169\n",
            "  -0.00439922]]\n",
            "\n"
          ]
        }
      ]
    }
  ]
}